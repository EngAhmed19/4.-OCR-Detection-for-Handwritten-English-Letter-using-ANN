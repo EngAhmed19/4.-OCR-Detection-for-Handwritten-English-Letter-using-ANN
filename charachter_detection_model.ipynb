{
 "cells": [
  {
   "cell_type": "markdown",
   "id": "39804614",
   "metadata": {},
   "source": [
    "# imports"
   ]
  },
  {
   "cell_type": "code",
   "execution_count": 1,
   "id": "586a473a",
   "metadata": {},
   "outputs": [
    {
     "name": "stdout",
     "output_type": "stream",
     "text": [
      "WARNING:tensorflow:From C:\\ProgramData\\Anaconda3\\envs\\py311\\Lib\\site-packages\\keras\\src\\losses.py:2976: The name tf.losses.sparse_softmax_cross_entropy is deprecated. Please use tf.compat.v1.losses.sparse_softmax_cross_entropy instead.\n",
      "\n"
     ]
    }
   ],
   "source": [
    "import numpy as np \n",
    "import matplotlib.pyplot as plt\n",
    "import pandas as pd\n",
    "\n",
    "import tensorflow as tf\n",
    "from tensorflow.keras.layers import Dense\n",
    "from tensorflow.keras.models import Sequential\n",
    "from tensorflow.keras.optimizers import Adam\n",
    "from tensorflow.keras.losses import SparseCategoricalCrossentropy\n",
    "\n",
    "from sklearn.model_selection import train_test_split\n",
    "from skimage import feature\n",
    "from sklearn.metrics import confusion_matrix\n",
    "\n",
    "from random import randint\n",
    "\n",
    "%matplotlib inline"
   ]
  },
  {
   "cell_type": "markdown",
   "id": "46fe4bd2",
   "metadata": {},
   "source": [
    "# Load data"
   ]
  },
  {
   "cell_type": "code",
   "execution_count": 2,
   "id": "de100d78",
   "metadata": {},
   "outputs": [],
   "source": [
    "letter_images=pd.read_csv(\"emnist-letters-train.csv\")"
   ]
  },
  {
   "cell_type": "code",
   "execution_count": 3,
   "id": "f6c2d724",
   "metadata": {},
   "outputs": [
    {
     "data": {
      "text/plain": [
       "(0, 25)"
      ]
     },
     "execution_count": 3,
     "metadata": {},
     "output_type": "execute_result"
    }
   ],
   "source": [
    "letter_images.iloc[:,0]=letter_images.iloc[:,0]-1\n",
    "letter_images.iloc[:,0].min(),letter_images.iloc[:,0].max()"
   ]
  },
  {
   "cell_type": "code",
   "execution_count": 4,
   "id": "9af7c414",
   "metadata": {},
   "outputs": [],
   "source": [
    "X=letter_images.iloc[:,1:].values\n",
    "y=letter_images.iloc[:,0].values"
   ]
  },
  {
   "cell_type": "code",
   "execution_count": 5,
   "id": "5ca672c5",
   "metadata": {},
   "outputs": [
    {
     "data": {
      "text/plain": [
       "((88799, 784), (88799,))"
      ]
     },
     "execution_count": 5,
     "metadata": {},
     "output_type": "execute_result"
    }
   ],
   "source": [
    "X.shape,y.shape"
   ]
  },
  {
   "cell_type": "markdown",
   "id": "67d702b9",
   "metadata": {},
   "source": [
    "# split data"
   ]
  },
  {
   "cell_type": "code",
   "execution_count": 6,
   "id": "d2e21e76",
   "metadata": {},
   "outputs": [],
   "source": [
    "X_train,X_test,y_train,y_test=train_test_split(X,y,test_size=0.20,random_state=42,stratify=y,shuffle=True)"
   ]
  },
  {
   "cell_type": "code",
   "execution_count": 7,
   "id": "fd22e079",
   "metadata": {},
   "outputs": [
    {
     "data": {
      "text/plain": [
       "((71039, 784), (71039,), (17760, 784), (17760,))"
      ]
     },
     "execution_count": 7,
     "metadata": {},
     "output_type": "execute_result"
    }
   ],
   "source": [
    "X_train.shape,y_train.shape,X_test.shape,y_test.shape"
   ]
  },
  {
   "cell_type": "markdown",
   "id": "3c8bf680",
   "metadata": {},
   "source": [
    "# extract features"
   ]
  },
  {
   "cell_type": "code",
   "execution_count": 8,
   "id": "328858c9",
   "metadata": {},
   "outputs": [],
   "source": [
    "train_feature=[]\n",
    "test_feature=[]\n",
    "\n",
    "for train_img in X_train:\n",
    "    train_img=train_img.reshape((28,28))\n",
    "    \n",
    "    hog_train_img,_=feature.hog(train_img,visualize=True)\n",
    "    train_feature.append(hog_train_img)\n",
    "    \n",
    "for test_img in X_test:\n",
    "    test_img=test_img.reshape((28,28))\n",
    "    \n",
    "    hog_test_img,_=feature.hog(test_img,visualize=True)\n",
    "    test_feature.append(hog_test_img)\n",
    "    "
   ]
  },
  {
   "cell_type": "markdown",
   "id": "1060af36",
   "metadata": {},
   "source": [
    "# example"
   ]
  },
  {
   "cell_type": "code",
   "execution_count": 9,
   "id": "eef39e4f",
   "metadata": {},
   "outputs": [
    {
     "data": {
      "text/plain": [
       "Text(0.5, 1.0, 'hog image')"
      ]
     },
     "execution_count": 9,
     "metadata": {},
     "output_type": "execute_result"
    },
    {
     "data": {
      "image/png": "[encoded data removed]",
      "text/plain": [
       "<Figure size 640x480 with 2 Axes>"
      ]
     },
     "metadata": {},
     "output_type": "display_data"
    }
   ],
   "source": [
    "gray_image=X_train[0].reshape((28,28))\n",
    "\n",
    "hog_feature,hog_img= feature.hog(gray_image,visualize=True)\n",
    "\n",
    "plt.subplot(1,2,1)\n",
    "plt.axis(\"off\")\n",
    "plt.imshow(gray_image,cmap=\"gray\")\n",
    "plt.title(\"original image\")\n",
    "\n",
    "plt.subplot(1,2,2)\n",
    "plt.axis(\"off\")\n",
    "plt.imshow(hog_img,cmap=\"gray\")\n",
    "plt.title(\"hog image\")"
   ]
  },
  {
   "cell_type": "code",
   "execution_count": 10,
   "id": "c49ebc2d",
   "metadata": {},
   "outputs": [],
   "source": [
    "X_train_img=np.array(train_feature)\n",
    "X_test_img=np.array(test_feature)"
   ]
  },
  {
   "cell_type": "code",
   "execution_count": 11,
   "id": "d5647c61",
   "metadata": {},
   "outputs": [
    {
     "data": {
      "text/plain": [
       "((71039, 81), (17760, 81), (71039,), (17760,))"
      ]
     },
     "execution_count": 11,
     "metadata": {},
     "output_type": "execute_result"
    }
   ],
   "source": [
    "X_train_img.shape,X_test_img.shape,y_train.shape,y_test.shape"
   ]
  },
  {
   "cell_type": "markdown",
   "id": "feade432",
   "metadata": {},
   "source": [
    "# Model"
   ]
  },
  {
   "cell_type": "code",
   "execution_count": 12,
   "id": "fca592c6",
   "metadata": {},
   "outputs": [
    {
     "name": "stdout",
     "output_type": "stream",
     "text": [
      "WARNING:tensorflow:From C:\\ProgramData\\Anaconda3\\envs\\py311\\Lib\\site-packages\\keras\\src\\backend.py:1398: The name tf.executing_eagerly_outside_functions is deprecated. Please use tf.compat.v1.executing_eagerly_outside_functions instead.\n",
      "\n"
     ]
    }
   ],
   "source": [
    "model= Sequential([\n",
    "    tf.keras.Input(shape=(81,)),\n",
    "    Dense(units=128,activation=\"relu\",name=\"layer1\"),\n",
    "    Dense(units=128,activation=\"relu\",name=\"layer2\"),\n",
    "    Dense(units=26,activation=\"linear\",name=\"layer3\")\n",
    "],name=\"Mymodel\"\n",
    ")"
   ]
  },
  {
   "cell_type": "markdown",
   "id": "919f6a51",
   "metadata": {},
   "source": [
    "# Model summary"
   ]
  },
  {
   "cell_type": "code",
   "execution_count": 13,
   "id": "8068a4a4",
   "metadata": {},
   "outputs": [
    {
     "name": "stdout",
     "output_type": "stream",
     "text": [
      "Model: \"Mymodel\"\n",
      "_________________________________________________________________\n",
      " Layer (type)                Output Shape              Param #   \n",
      "=================================================================\n",
      " layer1 (Dense)              (None, 128)               10496     \n",
      "                                                                 \n",
      " layer2 (Dense)              (None, 128)               16512     \n",
      "                                                                 \n",
      " layer3 (Dense)              (None, 26)                3354      \n",
      "                                                                 \n",
      "=================================================================\n",
      "Total params: 30362 (118.60 KB)\n",
      "Trainable params: 30362 (118.60 KB)\n",
      "Non-trainable params: 0 (0.00 Byte)\n",
      "_________________________________________________________________\n"
     ]
    }
   ],
   "source": [
    "model.summary()"
   ]
  },
  {
   "cell_type": "markdown",
   "id": "b735edda",
   "metadata": {},
   "source": [
    "# shape of parameters"
   ]
  },
  {
   "cell_type": "code",
   "execution_count": 14,
   "id": "193236a6",
   "metadata": {},
   "outputs": [],
   "source": [
    "[layer1,layer2,layer3]=model.layers"
   ]
  },
  {
   "cell_type": "code",
   "execution_count": 15,
   "id": "b1e3a711",
   "metadata": {},
   "outputs": [
    {
     "name": "stdout",
     "output_type": "stream",
     "text": [
      "w1 shape:(81, 128) , b1 shape: (128,)\n",
      "w2 shape:(128, 128) , b2 shape: (128,)\n",
      "w3 shape:(128, 26) , b3 shape: (26,)\n"
     ]
    }
   ],
   "source": [
    "w1,b1=layer1.get_weights()\n",
    "w2,b2=layer2.get_weights()\n",
    "\n",
    "w3,b3=layer3.get_weights()\n",
    "\n",
    "print(f\"w1 shape:{w1.shape} , b1 shape: {b1.shape}\")\n",
    "print(f\"w2 shape:{w2.shape} , b2 shape: {b2.shape}\")\n",
    "print(f\"w3 shape:{w3.shape} , b3 shape: {b3.shape}\")"
   ]
  },
  {
   "cell_type": "markdown",
   "id": "b26d6270",
   "metadata": {},
   "source": [
    "# compiling (loss function)"
   ]
  },
  {
   "cell_type": "code",
   "execution_count": 16,
   "id": "8c2cde72",
   "metadata": {},
   "outputs": [],
   "source": [
    "model.compile(\n",
    "    loss=SparseCategoricalCrossentropy(from_logits=True),\n",
    "    optimizer=Adam(learning_rate=0.001),\n",
    "    metrics=[\"accuracy\"]\n",
    ")"
   ]
  },
  {
   "cell_type": "code",
   "execution_count": 17,
   "id": "d7e2c6a8",
   "metadata": {},
   "outputs": [
    {
     "name": "stdout",
     "output_type": "stream",
     "text": [
      "Epoch 1/100\n",
      "WARNING:tensorflow:From C:\\ProgramData\\Anaconda3\\envs\\py311\\Lib\\site-packages\\keras\\src\\utils\\tf_utils.py:492: The name tf.ragged.RaggedTensorValue is deprecated. Please use tf.compat.v1.ragged.RaggedTensorValue instead.\n",
      "\n",
      "WARNING:tensorflow:From C:\\ProgramData\\Anaconda3\\envs\\py311\\Lib\\site-packages\\keras\\src\\engine\\base_layer_utils.py:384: The name tf.executing_eagerly_outside_functions is deprecated. Please use tf.compat.v1.executing_eagerly_outside_functions instead.\n",
      "\n",
      "2220/2220 [==============================] - 9s 3ms/step - loss: 0.9207 - accuracy: 0.7199\n",
      "Epoch 2/100\n",
      "2220/2220 [==============================] - 7s 3ms/step - loss: 0.5497 - accuracy: 0.8244\n",
      "Epoch 3/100\n",
      "2220/2220 [==============================] - 7s 3ms/step - loss: 0.4614 - accuracy: 0.8487\n",
      "Epoch 4/100\n",
      "2220/2220 [==============================] - 7s 3ms/step - loss: 0.4095 - accuracy: 0.8647\n",
      "Epoch 5/100\n",
      "2220/2220 [==============================] - 7s 3ms/step - loss: 0.3772 - accuracy: 0.8743\n",
      "Epoch 6/100\n",
      "2220/2220 [==============================] - 7s 3ms/step - loss: 0.3526 - accuracy: 0.8813\n",
      "Epoch 7/100\n",
      "2220/2220 [==============================] - 7s 3ms/step - loss: 0.3318 - accuracy: 0.8873\n",
      "Epoch 8/100\n",
      "2220/2220 [==============================] - 7s 3ms/step - loss: 0.3158 - accuracy: 0.8924\n",
      "Epoch 9/100\n",
      "2220/2220 [==============================] - 7s 3ms/step - loss: 0.3011 - accuracy: 0.8985\n",
      "Epoch 10/100\n",
      "2220/2220 [==============================] - 7s 3ms/step - loss: 0.2885 - accuracy: 0.9022\n",
      "Epoch 11/100\n",
      "2220/2220 [==============================] - 7s 3ms/step - loss: 0.2779 - accuracy: 0.9054\n",
      "Epoch 12/100\n",
      "2220/2220 [==============================] - 7s 3ms/step - loss: 0.2691 - accuracy: 0.9074\n",
      "Epoch 13/100\n",
      "2220/2220 [==============================] - 7s 3ms/step - loss: 0.2596 - accuracy: 0.9102\n",
      "Epoch 14/100\n",
      "2220/2220 [==============================] - 7s 3ms/step - loss: 0.2512 - accuracy: 0.9126\n",
      "Epoch 15/100\n",
      "2220/2220 [==============================] - 7s 3ms/step - loss: 0.2437 - accuracy: 0.9145\n",
      "Epoch 16/100\n",
      "2220/2220 [==============================] - 7s 3ms/step - loss: 0.2366 - accuracy: 0.9182\n",
      "Epoch 17/100\n",
      "2220/2220 [==============================] - 7s 3ms/step - loss: 0.2286 - accuracy: 0.9195\n",
      "Epoch 18/100\n",
      "2220/2220 [==============================] - 7s 3ms/step - loss: 0.2228 - accuracy: 0.9218\n",
      "Epoch 19/100\n",
      "2220/2220 [==============================] - 7s 3ms/step - loss: 0.2162 - accuracy: 0.9235\n",
      "Epoch 20/100\n",
      "2220/2220 [==============================] - 7s 3ms/step - loss: 0.2108 - accuracy: 0.9251\n",
      "Epoch 21/100\n",
      "2220/2220 [==============================] - 7s 3ms/step - loss: 0.2047 - accuracy: 0.9282\n",
      "Epoch 22/100\n",
      "2220/2220 [==============================] - 7s 3ms/step - loss: 0.1994 - accuracy: 0.9288\n",
      "Epoch 23/100\n",
      "2220/2220 [==============================] - 7s 3ms/step - loss: 0.1946 - accuracy: 0.9296\n",
      "Epoch 24/100\n",
      "2220/2220 [==============================] - 7s 3ms/step - loss: 0.1894 - accuracy: 0.9317\n",
      "Epoch 25/100\n",
      "2220/2220 [==============================] - 7s 3ms/step - loss: 0.1857 - accuracy: 0.9330\n",
      "Epoch 26/100\n",
      "2220/2220 [==============================] - 7s 3ms/step - loss: 0.1799 - accuracy: 0.9343\n",
      "Epoch 27/100\n",
      "2220/2220 [==============================] - 7s 3ms/step - loss: 0.1756 - accuracy: 0.9367\n",
      "Epoch 28/100\n",
      "2220/2220 [==============================] - 7s 3ms/step - loss: 0.1702 - accuracy: 0.9382\n",
      "Epoch 29/100\n",
      "2220/2220 [==============================] - 7s 3ms/step - loss: 0.1669 - accuracy: 0.9388\n",
      "Epoch 30/100\n",
      "2220/2220 [==============================] - 7s 3ms/step - loss: 0.1621 - accuracy: 0.9411\n",
      "Epoch 31/100\n",
      "2220/2220 [==============================] - 7s 3ms/step - loss: 0.1585 - accuracy: 0.9422\n",
      "Epoch 32/100\n",
      "2220/2220 [==============================] - 7s 3ms/step - loss: 0.1539 - accuracy: 0.9430\n",
      "Epoch 33/100\n",
      "2220/2220 [==============================] - 7s 3ms/step - loss: 0.1506 - accuracy: 0.9441\n",
      "Epoch 34/100\n",
      "2220/2220 [==============================] - 7s 3ms/step - loss: 0.1465 - accuracy: 0.9460\n",
      "Epoch 35/100\n",
      "2220/2220 [==============================] - 7s 3ms/step - loss: 0.1434 - accuracy: 0.9459\n",
      "Epoch 36/100\n",
      "2220/2220 [==============================] - 8s 3ms/step - loss: 0.1390 - accuracy: 0.9484\n",
      "Epoch 37/100\n",
      "2220/2220 [==============================] - 9s 4ms/step - loss: 0.1376 - accuracy: 0.9485\n",
      "Epoch 38/100\n",
      "2220/2220 [==============================] - 9s 4ms/step - loss: 0.1333 - accuracy: 0.9507\n",
      "Epoch 39/100\n",
      "2220/2220 [==============================] - 9s 4ms/step - loss: 0.1306 - accuracy: 0.9506\n",
      "Epoch 40/100\n",
      "2220/2220 [==============================] - 9s 4ms/step - loss: 0.1265 - accuracy: 0.9527\n",
      "Epoch 41/100\n",
      "2220/2220 [==============================] - 8s 4ms/step - loss: 0.1230 - accuracy: 0.9534\n",
      "Epoch 42/100\n",
      "2220/2220 [==============================] - 10s 4ms/step - loss: 0.1220 - accuracy: 0.9534\n",
      "Epoch 43/100\n",
      "2220/2220 [==============================] - 9s 4ms/step - loss: 0.1184 - accuracy: 0.9551\n",
      "Epoch 44/100\n",
      "2220/2220 [==============================] - 9s 4ms/step - loss: 0.1157 - accuracy: 0.9554\n",
      "Epoch 45/100\n",
      "2220/2220 [==============================] - 9s 4ms/step - loss: 0.1136 - accuracy: 0.9558\n",
      "Epoch 46/100\n",
      "2220/2220 [==============================] - 8s 4ms/step - loss: 0.1103 - accuracy: 0.9569\n",
      "Epoch 47/100\n",
      "2220/2220 [==============================] - 7s 3ms/step - loss: 0.1083 - accuracy: 0.9573\n",
      "Epoch 48/100\n",
      "2220/2220 [==============================] - 6s 3ms/step - loss: 0.1059 - accuracy: 0.9589\n",
      "Epoch 49/100\n",
      "2220/2220 [==============================] - 7s 3ms/step - loss: 0.1035 - accuracy: 0.9595\n",
      "Epoch 50/100\n",
      "2220/2220 [==============================] - 7s 3ms/step - loss: 0.1011 - accuracy: 0.9603\n",
      "Epoch 51/100\n",
      "2220/2220 [==============================] - 7s 3ms/step - loss: 0.0986 - accuracy: 0.9609\n",
      "Epoch 52/100\n",
      "2220/2220 [==============================] - 8s 3ms/step - loss: 0.0968 - accuracy: 0.9621\n",
      "Epoch 53/100\n",
      "2220/2220 [==============================] - 7s 3ms/step - loss: 0.0943 - accuracy: 0.9625\n",
      "Epoch 54/100\n",
      "2220/2220 [==============================] - 6s 2ms/step - loss: 0.0912 - accuracy: 0.9636\n",
      "Epoch 55/100\n",
      "2220/2220 [==============================] - 7s 3ms/step - loss: 0.0893 - accuracy: 0.9645\n",
      "Epoch 56/100\n",
      "2220/2220 [==============================] - 6s 3ms/step - loss: 0.0900 - accuracy: 0.9641\n",
      "Epoch 57/100\n",
      "2220/2220 [==============================] - 7s 3ms/step - loss: 0.0877 - accuracy: 0.9645\n",
      "Epoch 58/100\n",
      "2220/2220 [==============================] - 6s 3ms/step - loss: 0.0844 - accuracy: 0.9654\n",
      "Epoch 59/100\n",
      "2220/2220 [==============================] - 6s 3ms/step - loss: 0.0826 - accuracy: 0.9666\n",
      "Epoch 60/100\n",
      "2220/2220 [==============================] - 6s 3ms/step - loss: 0.0815 - accuracy: 0.9670\n",
      "Epoch 61/100\n",
      "2220/2220 [==============================] - 6s 3ms/step - loss: 0.0796 - accuracy: 0.9681\n",
      "Epoch 62/100\n",
      "2220/2220 [==============================] - 6s 3ms/step - loss: 0.0799 - accuracy: 0.9675\n",
      "Epoch 63/100\n",
      "2220/2220 [==============================] - 7s 3ms/step - loss: 0.0766 - accuracy: 0.9693\n",
      "Epoch 64/100\n",
      "2220/2220 [==============================] - 6s 3ms/step - loss: 0.0748 - accuracy: 0.9691\n",
      "Epoch 65/100\n",
      "2220/2220 [==============================] - 6s 3ms/step - loss: 0.0738 - accuracy: 0.9701\n",
      "Epoch 66/100\n",
      "2220/2220 [==============================] - 7s 3ms/step - loss: 0.0722 - accuracy: 0.9701\n",
      "Epoch 67/100\n",
      "2220/2220 [==============================] - 7s 3ms/step - loss: 0.0726 - accuracy: 0.9703\n",
      "Epoch 68/100\n",
      "2220/2220 [==============================] - 7s 3ms/step - loss: 0.0712 - accuracy: 0.9704\n",
      "Epoch 69/100\n",
      "2220/2220 [==============================] - 7s 3ms/step - loss: 0.0696 - accuracy: 0.9715\n",
      "Epoch 70/100\n",
      "2220/2220 [==============================] - 6s 3ms/step - loss: 0.0676 - accuracy: 0.9723\n",
      "Epoch 71/100\n",
      "2220/2220 [==============================] - 8s 3ms/step - loss: 0.0675 - accuracy: 0.9720\n",
      "Epoch 72/100\n",
      "2220/2220 [==============================] - 7s 3ms/step - loss: 0.0661 - accuracy: 0.9720\n",
      "Epoch 73/100\n",
      "2220/2220 [==============================] - 7s 3ms/step - loss: 0.0645 - accuracy: 0.9733\n",
      "Epoch 74/100\n",
      "2220/2220 [==============================] - 8s 3ms/step - loss: 0.0655 - accuracy: 0.9728\n",
      "Epoch 75/100\n"
     ]
    },
    {
     "name": "stdout",
     "output_type": "stream",
     "text": [
      "2220/2220 [==============================] - 8s 3ms/step - loss: 0.0625 - accuracy: 0.9739\n",
      "Epoch 76/100\n",
      "2220/2220 [==============================] - 7s 3ms/step - loss: 0.0623 - accuracy: 0.9736\n",
      "Epoch 77/100\n",
      "2220/2220 [==============================] - 7s 3ms/step - loss: 0.0619 - accuracy: 0.9741\n",
      "Epoch 78/100\n",
      "2220/2220 [==============================] - 7s 3ms/step - loss: 0.0600 - accuracy: 0.9755\n",
      "Epoch 79/100\n",
      "2220/2220 [==============================] - 7s 3ms/step - loss: 0.0603 - accuracy: 0.9752\n",
      "Epoch 80/100\n",
      "2220/2220 [==============================] - 7s 3ms/step - loss: 0.0576 - accuracy: 0.9754\n",
      "Epoch 81/100\n",
      "2220/2220 [==============================] - 6s 3ms/step - loss: 0.0580 - accuracy: 0.9753\n",
      "Epoch 82/100\n",
      "2220/2220 [==============================] - 7s 3ms/step - loss: 0.0578 - accuracy: 0.9757\n",
      "Epoch 83/100\n",
      "2220/2220 [==============================] - 7s 3ms/step - loss: 0.0561 - accuracy: 0.9766\n",
      "Epoch 84/100\n",
      "2220/2220 [==============================] - 7s 3ms/step - loss: 0.0557 - accuracy: 0.9771\n",
      "Epoch 85/100\n",
      "2220/2220 [==============================] - 7s 3ms/step - loss: 0.0557 - accuracy: 0.9767\n",
      "Epoch 86/100\n",
      "2220/2220 [==============================] - 7s 3ms/step - loss: 0.0525 - accuracy: 0.9779\n",
      "Epoch 87/100\n",
      "2220/2220 [==============================] - 7s 3ms/step - loss: 0.0542 - accuracy: 0.9772\n",
      "Epoch 88/100\n",
      "2220/2220 [==============================] - 7s 3ms/step - loss: 0.0537 - accuracy: 0.9774\n",
      "Epoch 89/100\n",
      "2220/2220 [==============================] - 7s 3ms/step - loss: 0.0536 - accuracy: 0.9776\n",
      "Epoch 90/100\n",
      "2220/2220 [==============================] - 7s 3ms/step - loss: 0.0518 - accuracy: 0.9780\n",
      "Epoch 91/100\n",
      "2220/2220 [==============================] - 7s 3ms/step - loss: 0.0510 - accuracy: 0.9784\n",
      "Epoch 92/100\n",
      "2220/2220 [==============================] - 7s 3ms/step - loss: 0.0523 - accuracy: 0.9778\n",
      "Epoch 93/100\n",
      "2220/2220 [==============================] - 7s 3ms/step - loss: 0.0507 - accuracy: 0.9792\n",
      "Epoch 94/100\n",
      "2220/2220 [==============================] - 7s 3ms/step - loss: 0.0510 - accuracy: 0.9788\n",
      "Epoch 95/100\n",
      "2220/2220 [==============================] - 7s 3ms/step - loss: 0.0506 - accuracy: 0.9786\n",
      "Epoch 96/100\n",
      "2220/2220 [==============================] - 7s 3ms/step - loss: 0.0512 - accuracy: 0.9781\n",
      "Epoch 97/100\n",
      "2220/2220 [==============================] - 7s 3ms/step - loss: 0.0486 - accuracy: 0.9797\n",
      "Epoch 98/100\n",
      "2220/2220 [==============================] - 7s 3ms/step - loss: 0.0484 - accuracy: 0.9798\n",
      "Epoch 99/100\n",
      "2220/2220 [==============================] - 7s 3ms/step - loss: 0.0499 - accuracy: 0.9787\n",
      "Epoch 100/100\n",
      "2220/2220 [==============================] - 7s 3ms/step - loss: 0.0469 - accuracy: 0.9800\n"
     ]
    }
   ],
   "source": [
    "Letter_recognition=model.fit(\n",
    "    X_train_img,y_train,\n",
    "    epochs=100\n",
    ")"
   ]
  },
  {
   "cell_type": "markdown",
   "id": "d0ea0f09",
   "metadata": {},
   "source": [
    "# make prediction"
   ]
  },
  {
   "cell_type": "code",
   "execution_count": 18,
   "id": "752f2ece",
   "metadata": {},
   "outputs": [
    {
     "name": "stdout",
     "output_type": "stream",
     "text": [
      "555/555 [==============================] - 2s 2ms/step\n"
     ]
    }
   ],
   "source": [
    "prediction_model=model.predict(X_test_img)"
   ]
  },
  {
   "cell_type": "code",
   "execution_count": 19,
   "id": "cd9e8b68",
   "metadata": {},
   "outputs": [],
   "source": [
    "prediction_p=tf.nn.softmax(prediction_model)"
   ]
  },
  {
   "cell_type": "code",
   "execution_count": 20,
   "id": "0087585e",
   "metadata": {},
   "outputs": [],
   "source": [
    "prediction_lable=np.argmax(prediction_p,axis=1)"
   ]
  },
  {
   "cell_type": "code",
   "execution_count": 21,
   "id": "b43c464c",
   "metadata": {},
   "outputs": [
    {
     "name": "stdout",
     "output_type": "stream",
     "text": [
      "[ 5  5 12 ... 19 16 11]\n",
      "[19  5 12 ... 19 17 11]\n"
     ]
    }
   ],
   "source": [
    "print(prediction_lable)\n",
    "print(y_test)"
   ]
  },
  {
   "cell_type": "markdown",
   "id": "e411638e",
   "metadata": {},
   "source": [
    "# accuracy"
   ]
  },
  {
   "cell_type": "code",
   "execution_count": 22,
   "id": "d02f592d",
   "metadata": {},
   "outputs": [
    {
     "name": "stdout",
     "output_type": "stream",
     "text": [
      "555/555 [==============================] - 2s 3ms/step - loss: 0.8812 - accuracy: 0.8770\n"
     ]
    }
   ],
   "source": [
    "loss,accurecy=model.evaluate(X_test_img,y_test)"
   ]
  },
  {
   "cell_type": "code",
   "execution_count": 23,
   "id": "29e30db2",
   "metadata": {},
   "outputs": [
    {
     "data": {
      "text/plain": [
       "0.8769707083702087"
      ]
     },
     "execution_count": 23,
     "metadata": {},
     "output_type": "execute_result"
    }
   ],
   "source": [
    "accurecy"
   ]
  },
  {
   "cell_type": "markdown",
   "id": "af81b34b",
   "metadata": {},
   "source": [
    "# Vesualize random data"
   ]
  },
  {
   "cell_type": "code",
   "execution_count": 24,
   "id": "46b9b30e",
   "metadata": {},
   "outputs": [],
   "source": [
    "def determine_letter(prediction):\n",
    "    letters={i: chr(ord('A') + i) for i in range(26)}\n",
    "    \n",
    "    return letters[prediction]"
   ]
  },
  {
   "cell_type": "code",
   "execution_count": 34,
   "id": "81965608",
   "metadata": {},
   "outputs": [
    {
     "name": "stdout",
     "output_type": "stream",
     "text": [
      "1/1 [==============================] - 0s 67ms/step\n",
      "1/1 [==============================] - 0s 45ms/step\n",
      "1/1 [==============================] - 0s 45ms/step\n",
      "1/1 [==============================] - 0s 74ms/step\n",
      "1/1 [==============================] - 0s 46ms/step\n",
      "1/1 [==============================] - 0s 43ms/step\n",
      "1/1 [==============================] - 0s 46ms/step\n",
      "1/1 [==============================] - 0s 53ms/step\n",
      "1/1 [==============================] - 0s 39ms/step\n",
      "1/1 [==============================] - 0s 43ms/step\n",
      "1/1 [==============================] - 0s 44ms/step\n",
      "1/1 [==============================] - 0s 41ms/step\n",
      "1/1 [==============================] - 0s 47ms/step\n",
      "1/1 [==============================] - 0s 80ms/step\n",
      "1/1 [==============================] - 0s 73ms/step\n",
      "1/1 [==============================] - 0s 63ms/step\n",
      "1/1 [==============================] - 0s 59ms/step\n",
      "1/1 [==============================] - 0s 74ms/step\n",
      "1/1 [==============================] - 0s 47ms/step\n",
      "1/1 [==============================] - 0s 88ms/step\n",
      "1/1 [==============================] - 0s 71ms/step\n",
      "1/1 [==============================] - 0s 47ms/step\n",
      "1/1 [==============================] - 0s 45ms/step\n",
      "1/1 [==============================] - 0s 49ms/step\n",
      "1/1 [==============================] - 0s 52ms/step\n",
      "1/1 [==============================] - 0s 46ms/step\n",
      "1/1 [==============================] - 0s 45ms/step\n",
      "1/1 [==============================] - 0s 44ms/step\n",
      "1/1 [==============================] - 0s 78ms/step\n",
      "1/1 [==============================] - 0s 47ms/step\n",
      "1/1 [==============================] - 0s 31ms/step\n",
      "1/1 [==============================] - 0s 54ms/step\n",
      "1/1 [==============================] - 0s 62ms/step\n",
      "1/1 [==============================] - 0s 57ms/step\n",
      "1/1 [==============================] - 0s 43ms/step\n",
      "1/1 [==============================] - 0s 50ms/step\n",
      "1/1 [==============================] - 0s 44ms/step\n",
      "1/1 [==============================] - 0s 50ms/step\n",
      "1/1 [==============================] - 0s 66ms/step\n",
      "1/1 [==============================] - 0s 70ms/step\n",
      "1/1 [==============================] - 0s 72ms/step\n",
      "1/1 [==============================] - 0s 54ms/step\n",
      "1/1 [==============================] - 0s 66ms/step\n",
      "1/1 [==============================] - 0s 48ms/step\n",
      "1/1 [==============================] - 0s 49ms/step\n",
      "1/1 [==============================] - 0s 41ms/step\n",
      "1/1 [==============================] - 0s 81ms/step\n",
      "1/1 [==============================] - 0s 61ms/step\n",
      "1/1 [==============================] - 0s 48ms/step\n",
      "1/1 [==============================] - 0s 45ms/step\n"
     ]
    },
    {
     "data": {
      "image/png": "[encoded data removed]",
      "text/plain": [
       "<Figure size 800x800 with 50 Axes>"
      ]
     },
     "metadata": {},
     "output_type": "display_data"
    }
   ],
   "source": [
    "fig, axes = plt.subplots(5,10, figsize=(8,8))\n",
    "fig.tight_layout(pad=0.1)\n",
    "fig.text(0.35,1,\"Acual character vs predicted character\")\n",
    "\n",
    "for i,ax in enumerate(axes.flat):\n",
    "    random_index = np.random.randint(0,17000)\n",
    "    \n",
    "    X_random_reshaped = X_test_img[random_index].reshape((1,81))\n",
    "\n",
    "    ax.imshow(X_test[random_index].reshape((28,28)), cmap='gray')\n",
    "    \n",
    "    predected_label=model.predict([X_random_reshaped])\n",
    "    \n",
    "    predected_label_p=tf.nn.softmax(predected_label)\n",
    "    \n",
    "    predictedLabel=np.argmax(predected_label_p)\n",
    "    \n",
    "    actual_character=determine_letter(y_test[random_index])\n",
    "    \n",
    "    predicted_character=determine_letter(predictedLabel)\n",
    "    \n",
    "    ax.set_title(f\"{actual_character}:{predicted_character}\")\n",
    "    ax.set_axis_off()"
   ]
  },
  {
   "cell_type": "markdown",
   "id": "75c0f3f2",
   "metadata": {},
   "source": [
    "# Save model"
   ]
  },
  {
   "cell_type": "code",
   "execution_count": 26,
   "id": "e6b2a6c0",
   "metadata": {},
   "outputs": [
    {
     "name": "stdout",
     "output_type": "stream",
     "text": [
      "INFO:tensorflow:Assets written to: D:/Ai model/model1\\assets\n"
     ]
    },
    {
     "name": "stderr",
     "output_type": "stream",
     "text": [
      "INFO:tensorflow:Assets written to: D:/Ai model/model1\\assets\n"
     ]
    }
   ],
   "source": [
    "model.save('D:/Ai model/model1')"
   ]
  },
  {
   "cell_type": "code",
   "execution_count": 28,
   "id": "e44de3be",
   "metadata": {},
   "outputs": [],
   "source": [
    "from sklearn.metrics import confusion_matrix"
   ]
  },
  {
   "cell_type": "code",
   "execution_count": 32,
   "id": "985fdee3",
   "metadata": {},
   "outputs": [
    {
     "data": {
      "text/plain": [
       "array([[579,  14,   2,   9,   3,   0,  15,   9,   4,   5,   2,   0,   6,\n",
       "         17,   1,   1,  27,   2,   1,   1,   6,   0,   3,   1,   1,   1],\n",
       "       [  6, 584,   2,   4,   5,   4,  14,  25,   2,   0,   5,   5,   0,\n",
       "          0,   7,   4,   8,  11,   8,   3,   1,   0,   0,   1,   0,   2],\n",
       "       [  3,   0, 609,   0,  25,   0,   6,   0,   0,   0,   0,   3,   0,\n",
       "          1,   3,   1,   2,   4,   1,   0,   1,   0,   0,   0,   0,   0],\n",
       "       [  7,   6,   0, 635,   0,   0,   0,   7,   4,  11,   0,   4,   1,\n",
       "          4,  24,  10,   3,   0,   1,   2,   1,   0,   2,   1,   0,   0],\n",
       "       [  7,   7,  32,   0, 619,  10,   9,   0,   0,   0,   1,   0,   0,\n",
       "          0,   2,   2,   4,   2,   5,   2,   0,   1,   2,   3,   0,   2],\n",
       "       [  1,   1,   2,   1,   7, 608,   1,   0,   3,   3,   3,   2,   0,\n",
       "          0,   0,   8,   1,  17,   2,  14,   0,   0,   0,   1,   0,   1],\n",
       "       [ 25,  11,  18,   2,   6,  10, 532,   1,   1,   1,   0,   0,   2,\n",
       "          4,   3,   3, 101,   4,   6,   0,   0,   0,   0,   0,   7,   5],\n",
       "       [  6,  24,   0,   5,   0,   0,   0, 605,   1,   1,   9,   6,   4,\n",
       "         17,   0,   0,   0,   0,   0,   4,   7,   0,   1,   2,   0,   0],\n",
       "       [  1,   0,   0,   1,   1,   3,   2,   1, 493,  20,   1, 186,   0,\n",
       "          1,   2,   0,   0,   2,   0,   3,   1,   2,   0,   0,   0,   2],\n",
       "       [  2,   1,   0,   9,   2,   6,   2,   3,  12, 600,   1,   8,   0,\n",
       "          0,   0,   0,   2,   0,  15,   6,   5,   3,   0,   0,   6,   1],\n",
       "       [  0,   7,   0,   0,   1,   0,   0,   5,   0,   0, 623,   3,   0,\n",
       "          1,   0,   0,   0,   5,   0,   2,   0,   0,   1,   4,   0,   0],\n",
       "       [  0,   0,   8,   1,   1,   0,   2,   4, 146,   5,   2, 458,   0,\n",
       "          1,   0,   1,   0,   1,   0,   0,   1,   0,   1,   0,   0,   0],\n",
       "       [  1,   1,   0,   0,   0,   0,   0,   3,   0,   0,   0,   0, 646,\n",
       "         25,   0,   0,   2,   1,   0,   1,   0,   1,   6,   1,   2,   2],\n",
       "       [  1,   1,   2,   0,   0,   0,   0,   8,   3,   0,   2,   0,  10,\n",
       "        563,   1,   2,   1,   2,   0,   2,   1,   1,  14,   1,   1,   0],\n",
       "       [  6,   4,   2,   4,   1,   0,   0,   0,   0,   0,   0,   0,   0,\n",
       "          0, 626,   1,   6,   1,   0,   0,   1,   0,   0,   0,   0,   0],\n",
       "       [  3,   1,   3,   4,   3,  16,   1,   1,   0,   2,   1,   1,   0,\n",
       "          0,   5, 646,   7,  17,   0,   3,   0,   2,   0,   0,   3,   0],\n",
       "       [ 16,   4,   1,   1,   1,   0,  68,   0,   3,   1,   0,   1,   0,\n",
       "          4,   6,   3, 511,   4,   1,   2,   1,   0,   0,   0,   8,   2],\n",
       "       [  6,   3,   1,   0,   3,   3,   4,   0,   1,   0,   9,   0,   2,\n",
       "          5,   0,   1,   4, 592,   0,   7,   0,  10,   0,   1,  10,   1],\n",
       "       [  0,   0,   1,   1,   3,   3,   9,   2,   0,   8,   0,   1,   0,\n",
       "          0,   0,   0,   0,   0, 635,   0,   0,   0,   0,   0,   0,   1],\n",
       "       [  0,   2,   0,   1,   2,  13,   3,   4,   4,   6,   3,   3,   0,\n",
       "          0,   0,   1,   4,   7,   0, 624,   0,   0,   0,   0,   5,   2],\n",
       "       [  2,   0,   0,   0,   0,   0,   0,   4,   0,   4,   2,   0,   4,\n",
       "          7,   2,   0,   0,   0,   0,   0, 617,  20,  27,   0,   2,   1],\n",
       "       [  0,   1,   0,   1,   0,   0,   0,   2,   0,   6,   0,   1,   0,\n",
       "          2,   0,   1,   0,   4,   0,   0,  27, 619,   7,   2,  17,   0],\n",
       "       [  1,   0,   0,   1,   0,   0,   0,   0,   0,   1,   0,   0,   1,\n",
       "         14,   0,   0,   0,   0,   2,   1,   8,   0, 614,   1,   1,   0],\n",
       "       [  2,   1,   0,   0,   1,   1,   2,   0,   4,   4,  21,   1,   4,\n",
       "          6,   0,   0,   1,   3,   0,   2,   1,   1,   5, 666,  13,   5],\n",
       "       [  0,   0,   1,   0,   0,   0,   5,   1,   2,   2,   2,   0,   0,\n",
       "          0,   0,   1,   3,   4,   0,   5,   5,  24,   1,   1, 614,   0],\n",
       "       [  4,   6,   0,   0,   4,   2,   2,   0,   3,   0,   1,   0,   0,\n",
       "          1,   0,   0,   0,   1,   1,   3,   0,   0,   0,   1,   1, 657]],\n",
       "      dtype=int64)"
      ]
     },
     "execution_count": 32,
     "metadata": {},
     "output_type": "execute_result"
    }
   ],
   "source": [
    "confusion_matrix(prediction_lable,y_test)"
   ]
  }
 ],
 "metadata": {
  "kernelspec": {
   "display_name": "Python 3 (ipykernel)",
   "language": "python",
   "name": "python3"
  },
  "language_info": {
   "codemirror_mode": {
    "name": "ipython",
    "version": 3
   },
   "file_extension": ".py",
   "mimetype": "text/x-python",
   "name": "python",
   "nbconvert_exporter": "python",
   "pygments_lexer": "ipython3",
   "version": "3.11.0"
  }
 },
 "nbformat": 4,
 "nbformat_minor": 5
}
