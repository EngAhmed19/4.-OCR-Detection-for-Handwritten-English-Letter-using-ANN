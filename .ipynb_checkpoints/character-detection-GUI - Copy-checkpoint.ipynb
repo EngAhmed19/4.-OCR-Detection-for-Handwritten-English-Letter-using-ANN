{
 "cells": [
  {
   "cell_type": "code",
   "execution_count": 16,
   "id": "d589b595",
   "metadata": {},
   "outputs": [
    {
     "name": "stdout",
     "output_type": "stream",
     "text": [
      "WARNING:tensorflow:From C:\\ProgramData\\Anaconda3\\envs\\py311\\Lib\\site-packages\\keras\\src\\backend.py:1398: The name tf.executing_eagerly_outside_functions is deprecated. Please use tf.compat.v1.executing_eagerly_outside_functions instead.\n",
      "\n",
      "Model: \"Mymodel\"\n",
      "_________________________________________________________________\n",
      " Layer (type)                Output Shape              Param #   \n",
      "=================================================================\n",
      " layer1 (Dense)              (None, 128)               10496     \n",
      "                                                                 \n",
      " layer2 (Dense)              (None, 128)               16512     \n",
      "                                                                 \n",
      " layer3 (Dense)              (None, 26)                3354      \n",
      "                                                                 \n",
      "=================================================================\n",
      "Total params: 30362 (118.60 KB)\n",
      "Trainable params: 30362 (118.60 KB)\n",
      "Non-trainable params: 0 (0.00 Byte)\n",
      "_________________________________________________________________\n",
      "w1 shape:(81, 128) , b1 shape: (128,)\n",
      "w2 shape:(128, 128) , b2 shape: (128,)\n",
      "w3 shape:(128, 26) , b3 shape: (26,)\n",
      "Epoch 1/100\n",
      "WARNING:tensorflow:From C:\\ProgramData\\Anaconda3\\envs\\py311\\Lib\\site-packages\\keras\\src\\utils\\tf_utils.py:492: The name tf.ragged.RaggedTensorValue is deprecated. Please use tf.compat.v1.ragged.RaggedTensorValue instead.\n",
      "\n",
      "WARNING:tensorflow:From C:\\ProgramData\\Anaconda3\\envs\\py311\\Lib\\site-packages\\keras\\src\\engine\\base_layer_utils.py:384: The name tf.executing_eagerly_outside_functions is deprecated. Please use tf.compat.v1.executing_eagerly_outside_functions instead.\n",
      "\n",
      "2220/2220 [==============================] - 4s 1ms/step - loss: 0.9286 - accuracy: 0.7204\n",
      "Epoch 2/100\n",
      "2220/2220 [==============================] - 3s 1ms/step - loss: 0.5524 - accuracy: 0.8224\n",
      "Epoch 3/100\n",
      "2220/2220 [==============================] - 3s 1ms/step - loss: 0.4574 - accuracy: 0.8507\n",
      "Epoch 4/100\n",
      "2220/2220 [==============================] - 3s 1ms/step - loss: 0.4049 - accuracy: 0.8671\n",
      "Epoch 5/100\n",
      "2220/2220 [==============================] - 3s 1ms/step - loss: 0.3699 - accuracy: 0.8781\n",
      "Epoch 6/100\n",
      "2220/2220 [==============================] - 3s 1ms/step - loss: 0.3453 - accuracy: 0.8840\n",
      "Epoch 7/100\n",
      "2220/2220 [==============================] - 3s 1ms/step - loss: 0.3246 - accuracy: 0.8907\n",
      "Epoch 8/100\n",
      "2220/2220 [==============================] - 3s 1ms/step - loss: 0.3094 - accuracy: 0.8952\n",
      "Epoch 9/100\n",
      "2220/2220 [==============================] - 3s 1ms/step - loss: 0.2957 - accuracy: 0.8997\n",
      "Epoch 10/100\n",
      "2220/2220 [==============================] - 3s 1ms/step - loss: 0.2820 - accuracy: 0.9035\n",
      "Epoch 11/100\n",
      "2220/2220 [==============================] - 3s 1ms/step - loss: 0.2725 - accuracy: 0.9060\n",
      "Epoch 12/100\n",
      "2220/2220 [==============================] - 3s 1ms/step - loss: 0.2627 - accuracy: 0.9097\n",
      "Epoch 13/100\n",
      "2220/2220 [==============================] - 3s 1ms/step - loss: 0.2544 - accuracy: 0.9123\n",
      "Epoch 14/100\n",
      "2220/2220 [==============================] - 3s 1ms/step - loss: 0.2459 - accuracy: 0.9145\n",
      "Epoch 15/100\n",
      "2220/2220 [==============================] - 3s 1ms/step - loss: 0.2380 - accuracy: 0.9171\n",
      "Epoch 16/100\n",
      "2220/2220 [==============================] - 3s 1ms/step - loss: 0.2320 - accuracy: 0.9182\n",
      "Epoch 17/100\n",
      "2220/2220 [==============================] - 3s 1ms/step - loss: 0.2251 - accuracy: 0.9201\n",
      "Epoch 18/100\n",
      "2220/2220 [==============================] - 3s 1ms/step - loss: 0.2189 - accuracy: 0.9235\n",
      "Epoch 19/100\n",
      "2220/2220 [==============================] - 3s 1ms/step - loss: 0.2126 - accuracy: 0.9257\n",
      "Epoch 20/100\n",
      "2220/2220 [==============================] - 3s 1ms/step - loss: 0.2050 - accuracy: 0.9271\n",
      "Epoch 21/100\n",
      "2220/2220 [==============================] - 3s 1ms/step - loss: 0.2013 - accuracy: 0.9295\n",
      "Epoch 22/100\n",
      "2220/2220 [==============================] - 3s 1ms/step - loss: 0.1958 - accuracy: 0.9301\n",
      "Epoch 23/100\n",
      "2220/2220 [==============================] - 6s 3ms/step - loss: 0.1907 - accuracy: 0.9311\n",
      "Epoch 24/100\n",
      "2220/2220 [==============================] - 7s 3ms/step - loss: 0.1859 - accuracy: 0.9333\n",
      "Epoch 25/100\n",
      "2220/2220 [==============================] - 6s 3ms/step - loss: 0.1813 - accuracy: 0.9345\n",
      "Epoch 26/100\n",
      "2220/2220 [==============================] - 3s 1ms/step - loss: 0.1764 - accuracy: 0.9360\n",
      "Epoch 27/100\n",
      "2220/2220 [==============================] - 3s 2ms/step - loss: 0.1716 - accuracy: 0.9376\n",
      "Epoch 28/100\n",
      "2220/2220 [==============================] - 3s 1ms/step - loss: 0.1675 - accuracy: 0.9387\n",
      "Epoch 29/100\n",
      "2220/2220 [==============================] - 3s 1ms/step - loss: 0.1634 - accuracy: 0.9404\n",
      "Epoch 30/100\n",
      "2220/2220 [==============================] - 3s 1ms/step - loss: 0.1589 - accuracy: 0.9426\n",
      "Epoch 31/100\n",
      "2220/2220 [==============================] - 3s 1ms/step - loss: 0.1554 - accuracy: 0.9428\n",
      "Epoch 32/100\n",
      "2220/2220 [==============================] - 3s 2ms/step - loss: 0.1523 - accuracy: 0.9431\n",
      "Epoch 33/100\n",
      "2220/2220 [==============================] - 3s 1ms/step - loss: 0.1474 - accuracy: 0.9456\n",
      "Epoch 34/100\n",
      "2220/2220 [==============================] - 3s 1ms/step - loss: 0.1447 - accuracy: 0.9460\n",
      "Epoch 35/100\n",
      "2220/2220 [==============================] - 3s 2ms/step - loss: 0.1414 - accuracy: 0.9463\n",
      "Epoch 36/100\n",
      "2220/2220 [==============================] - 3s 1ms/step - loss: 0.1370 - accuracy: 0.9487\n",
      "Epoch 37/100\n",
      "2220/2220 [==============================] - 3s 1ms/step - loss: 0.1347 - accuracy: 0.9493\n",
      "Epoch 38/100\n",
      "2220/2220 [==============================] - 3s 1ms/step - loss: 0.1314 - accuracy: 0.9501\n",
      "Epoch 39/100\n",
      "2220/2220 [==============================] - 3s 1ms/step - loss: 0.1279 - accuracy: 0.9523\n",
      "Epoch 40/100\n",
      "2220/2220 [==============================] - 3s 1ms/step - loss: 0.1261 - accuracy: 0.9524\n",
      "Epoch 41/100\n",
      "2220/2220 [==============================] - 3s 1ms/step - loss: 0.1216 - accuracy: 0.9537\n",
      "Epoch 42/100\n",
      "2220/2220 [==============================] - 4s 2ms/step - loss: 0.1182 - accuracy: 0.9552\n",
      "Epoch 43/100\n",
      "2220/2220 [==============================] - 3s 1ms/step - loss: 0.1169 - accuracy: 0.9551\n",
      "Epoch 44/100\n",
      "2220/2220 [==============================] - 3s 1ms/step - loss: 0.1128 - accuracy: 0.9572\n",
      "Epoch 45/100\n",
      "2220/2220 [==============================] - 3s 1ms/step - loss: 0.1115 - accuracy: 0.9573\n",
      "Epoch 46/100\n",
      "2220/2220 [==============================] - 3s 1ms/step - loss: 0.1083 - accuracy: 0.9583\n",
      "Epoch 47/100\n",
      "2220/2220 [==============================] - 3s 1ms/step - loss: 0.1067 - accuracy: 0.9586\n",
      "Epoch 48/100\n",
      "2220/2220 [==============================] - 3s 1ms/step - loss: 0.1041 - accuracy: 0.9595\n",
      "Epoch 49/100\n",
      "2220/2220 [==============================] - 3s 1ms/step - loss: 0.1019 - accuracy: 0.9600\n",
      "Epoch 50/100\n",
      "2220/2220 [==============================] - 3s 1ms/step - loss: 0.0986 - accuracy: 0.9626\n",
      "Epoch 51/100\n",
      "2220/2220 [==============================] - 3s 2ms/step - loss: 0.0980 - accuracy: 0.9605\n",
      "Epoch 52/100\n",
      "2220/2220 [==============================] - 3s 1ms/step - loss: 0.0955 - accuracy: 0.9626\n",
      "Epoch 53/100\n",
      "2220/2220 [==============================] - 3s 1ms/step - loss: 0.0929 - accuracy: 0.9632\n",
      "Epoch 54/100\n",
      "2220/2220 [==============================] - 3s 1ms/step - loss: 0.0909 - accuracy: 0.9646\n",
      "Epoch 55/100\n",
      "2220/2220 [==============================] - 3s 1ms/step - loss: 0.0900 - accuracy: 0.9651\n",
      "Epoch 56/100\n",
      "2220/2220 [==============================] - 3s 1ms/step - loss: 0.0877 - accuracy: 0.9646\n",
      "Epoch 57/100\n",
      "2220/2220 [==============================] - 3s 1ms/step - loss: 0.0864 - accuracy: 0.9660\n",
      "Epoch 58/100\n",
      "2220/2220 [==============================] - 3s 1ms/step - loss: 0.0845 - accuracy: 0.9658\n",
      "Epoch 59/100\n",
      "2220/2220 [==============================] - 3s 1ms/step - loss: 0.0816 - accuracy: 0.9676\n",
      "Epoch 60/100\n",
      "2220/2220 [==============================] - 3s 1ms/step - loss: 0.0816 - accuracy: 0.9668\n",
      "Epoch 61/100\n",
      "2220/2220 [==============================] - 3s 1ms/step - loss: 0.0802 - accuracy: 0.9672\n",
      "Epoch 62/100\n",
      "2220/2220 [==============================] - 3s 1ms/step - loss: 0.0781 - accuracy: 0.9684\n",
      "Epoch 63/100\n"
     ]
    },
    {
     "name": "stdout",
     "output_type": "stream",
     "text": [
      "2220/2220 [==============================] - 3s 1ms/step - loss: 0.0775 - accuracy: 0.9693\n",
      "Epoch 64/100\n",
      "2220/2220 [==============================] - 3s 1ms/step - loss: 0.0750 - accuracy: 0.9695\n",
      "Epoch 65/100\n",
      "2220/2220 [==============================] - 3s 1ms/step - loss: 0.0748 - accuracy: 0.9690\n",
      "Epoch 66/100\n",
      "2220/2220 [==============================] - 3s 1ms/step - loss: 0.0739 - accuracy: 0.9701\n",
      "Epoch 67/100\n",
      "2220/2220 [==============================] - 3s 1ms/step - loss: 0.0701 - accuracy: 0.9711\n",
      "Epoch 68/100\n",
      "2220/2220 [==============================] - 3s 1ms/step - loss: 0.0710 - accuracy: 0.9710\n",
      "Epoch 69/100\n",
      "2220/2220 [==============================] - 3s 1ms/step - loss: 0.0696 - accuracy: 0.9716\n",
      "Epoch 70/100\n",
      "2220/2220 [==============================] - 3s 1ms/step - loss: 0.0679 - accuracy: 0.9719\n",
      "Epoch 71/100\n",
      "2220/2220 [==============================] - 3s 1ms/step - loss: 0.0676 - accuracy: 0.9720\n",
      "Epoch 72/100\n",
      "2220/2220 [==============================] - 5s 2ms/step - loss: 0.0666 - accuracy: 0.9734\n",
      "Epoch 73/100\n",
      "2220/2220 [==============================] - 3s 1ms/step - loss: 0.0643 - accuracy: 0.9740\n",
      "Epoch 74/100\n",
      "2220/2220 [==============================] - 3s 1ms/step - loss: 0.0649 - accuracy: 0.9738\n",
      "Epoch 75/100\n",
      "2220/2220 [==============================] - 4s 2ms/step - loss: 0.0624 - accuracy: 0.9745\n",
      "Epoch 76/100\n",
      "2220/2220 [==============================] - 4s 2ms/step - loss: 0.0630 - accuracy: 0.9749\n",
      "Epoch 77/100\n",
      "2220/2220 [==============================] - 3s 1ms/step - loss: 0.0600 - accuracy: 0.9753\n",
      "Epoch 78/100\n",
      "2220/2220 [==============================] - 3s 1ms/step - loss: 0.0601 - accuracy: 0.9753\n",
      "Epoch 79/100\n",
      "2220/2220 [==============================] - 3s 1ms/step - loss: 0.0592 - accuracy: 0.9755\n",
      "Epoch 80/100\n",
      "2220/2220 [==============================] - 3s 1ms/step - loss: 0.0568 - accuracy: 0.9770\n",
      "Epoch 81/100\n",
      "2220/2220 [==============================] - 3s 1ms/step - loss: 0.0582 - accuracy: 0.9762\n",
      "Epoch 82/100\n",
      "2220/2220 [==============================] - 3s 1ms/step - loss: 0.0568 - accuracy: 0.9766\n",
      "Epoch 83/100\n",
      "2220/2220 [==============================] - 3s 1ms/step - loss: 0.0564 - accuracy: 0.9770\n",
      "Epoch 84/100\n",
      "2220/2220 [==============================] - 3s 1ms/step - loss: 0.0552 - accuracy: 0.9777\n",
      "Epoch 85/100\n",
      "2220/2220 [==============================] - 3s 1ms/step - loss: 0.0555 - accuracy: 0.9771\n",
      "Epoch 86/100\n",
      "2220/2220 [==============================] - 3s 1ms/step - loss: 0.0537 - accuracy: 0.9778\n",
      "Epoch 87/100\n",
      "2220/2220 [==============================] - 3s 1ms/step - loss: 0.0538 - accuracy: 0.9780\n",
      "Epoch 88/100\n",
      "2220/2220 [==============================] - 3s 1ms/step - loss: 0.0528 - accuracy: 0.9779\n",
      "Epoch 89/100\n",
      "2220/2220 [==============================] - 3s 1ms/step - loss: 0.0519 - accuracy: 0.9782\n",
      "Epoch 90/100\n",
      "2220/2220 [==============================] - 3s 1ms/step - loss: 0.0525 - accuracy: 0.9781\n",
      "Epoch 91/100\n",
      "2220/2220 [==============================] - 3s 1ms/step - loss: 0.0495 - accuracy: 0.9800\n",
      "Epoch 92/100\n",
      "2220/2220 [==============================] - 3s 1ms/step - loss: 0.0501 - accuracy: 0.9788\n",
      "Epoch 93/100\n",
      "2220/2220 [==============================] - 4s 2ms/step - loss: 0.0512 - accuracy: 0.9789\n",
      "Epoch 94/100\n",
      "2220/2220 [==============================] - 11s 5ms/step - loss: 0.0498 - accuracy: 0.9794\n",
      "Epoch 95/100\n",
      "2220/2220 [==============================] - 5s 2ms/step - loss: 0.0495 - accuracy: 0.9793\n",
      "Epoch 96/100\n",
      "2220/2220 [==============================] - 6s 2ms/step - loss: 0.0473 - accuracy: 0.9803\n",
      "Epoch 97/100\n",
      "2220/2220 [==============================] - 3s 1ms/step - loss: 0.0467 - accuracy: 0.9808\n",
      "Epoch 98/100\n",
      "2220/2220 [==============================] - 3s 1ms/step - loss: 0.0487 - accuracy: 0.9798\n",
      "Epoch 99/100\n",
      "2220/2220 [==============================] - 3s 1ms/step - loss: 0.0460 - accuracy: 0.9810\n",
      "Epoch 100/100\n",
      "2220/2220 [==============================] - 3s 1ms/step - loss: 0.0474 - accuracy: 0.9801\n",
      "555/555 [==============================] - 1s 876us/step\n",
      "555/555 [==============================] - 1s 1ms/step - loss: 0.8339 - accuracy: 0.8822\n"
     ]
    },
    {
     "data": {
      "image/png": "[encoded data removed]",
      "text/plain": [
       "<Figure size 640x480 with 2 Axes>"
      ]
     },
     "metadata": {},
     "output_type": "display_data"
    }
   ],
   "source": [
    "from FinalModel import model"
   ]
  },
  {
   "cell_type": "code",
   "execution_count": 2,
   "id": "a9a11d96",
   "metadata": {},
   "outputs": [],
   "source": [
    "import customtkinter\n",
    "import tkinter as tk\n",
    "from tkinter import filedialog\n",
    "import numpy as np\n",
    "\n",
    "from PIL import Image\n",
    "from skimage import feature,io,exposure\n",
    "import tensorflow as tf\n"
   ]
  },
  {
   "cell_type": "code",
   "execution_count": 3,
   "id": "dabd9f7f",
   "metadata": {},
   "outputs": [],
   "source": [
    "def MakePrediction(img):\n",
    "    prediction=model.predict([img])\n",
    "    prediction_p=tf.nn.softmax(prediction)\n",
    "    \n",
    "    return np.argmax(prediction_p)"
   ]
  },
  {
   "cell_type": "code",
   "execution_count": 4,
   "id": "3d2d9580",
   "metadata": {},
   "outputs": [],
   "source": [
    "\n",
    "\n",
    "def determine_letter(prediction):\n",
    "    letters={i: chr(ord('a') + i) for i in range(26)}\n",
    "    \n",
    "    return letters[prediction]\n",
    "    "
   ]
  },
  {
   "cell_type": "code",
   "execution_count": 5,
   "id": "eef62f84",
   "metadata": {},
   "outputs": [],
   "source": [
    "def extract_feature(image):\n",
    "    hog_image,_=feature.hog(image,visualize=True)\n",
    "    return hog_image"
   ]
  },
  {
   "cell_type": "code",
   "execution_count": 6,
   "id": "ce4c4b80",
   "metadata": {},
   "outputs": [],
   "source": [
    "def upload_file():\n",
    "    file_path = filedialog.askopenfilename()\n",
    "    # Process the uploaded file path or perform any desired actions\n",
    "    if file_path:\n",
    "        image=Image.open(file_path)\n",
    "        \n",
    "        image_array=np.asarray(image)\n",
    "        \n",
    "        \n",
    "        image_array_2d= image_array[:,:,0].reshape((28,28))\n",
    "        \n",
    "        \n",
    "        hog_image=extract_feature(image_array_2d)\n",
    "        \n",
    "        hog_image=hog_image.reshape((1,81))\n",
    "        \n",
    "        \n",
    "        \n",
    "        prediction=MakePrediction(hog_image)\n",
    "        \n",
    "        \n",
    "        predicted_letter=determine_letter(prediction)\n",
    "        \n",
    "        print(predicted_letter)\n",
    "        "
   ]
  },
  {
   "cell_type": "code",
   "execution_count": 35,
   "id": "74938ea2",
   "metadata": {},
   "outputs": [],
   "source": [
    "app=customtkinter.CTk()"
   ]
  },
  {
   "cell_type": "code",
   "execution_count": 36,
   "id": "34f7f618",
   "metadata": {},
   "outputs": [],
   "source": [
    "customtkinter.set_appearance_mode(\"dark\")\n",
    "customtkinter.set_default_color_theme(\"dark-blue\")"
   ]
  },
  {
   "cell_type": "code",
   "execution_count": 37,
   "id": "c7827ca6",
   "metadata": {},
   "outputs": [],
   "source": [
    "screen_width=app.winfo_screenwidth()\n",
    "screen_height=app.winfo_screenheight()\n",
    "\n",
    "w=500\n",
    "h=500\n",
    "\n",
    "a=(screen_width/2)-(w/2)\n",
    "b=(screen_height/2)-(h/2)\n",
    "\n",
    "\n",
    "app.geometry(\"%dx%d+%d+%d\" %(w,h,a,b))"
   ]
  },
  {
   "cell_type": "code",
   "execution_count": 38,
   "id": "0afac87a",
   "metadata": {},
   "outputs": [
    {
     "data": {
      "text/plain": [
       "''"
      ]
     },
     "execution_count": 38,
     "metadata": {},
     "output_type": "execute_result"
    }
   ],
   "source": [
    "app.title(\"OCR for HandWritten character\")\n"
   ]
  },
  {
   "cell_type": "code",
   "execution_count": 39,
   "id": "23103709",
   "metadata": {},
   "outputs": [],
   "source": [
    "app.grid_columnconfigure(0,weight=1)\n",
    "app.grid_rowconfigure(0,weight=1)\n",
    "\n"
   ]
  },
  {
   "cell_type": "code",
   "execution_count": 40,
   "id": "fc789f9b",
   "metadata": {},
   "outputs": [],
   "source": [
    "frame1=customtkinter.CTkFrame(app,width=300,height=300,fg_color=\"transparent\")\n",
    "frame1.grid(row=0,column=0,padx=10,pady=10)"
   ]
  },
  {
   "cell_type": "code",
   "execution_count": 41,
   "id": "acb919e2",
   "metadata": {},
   "outputs": [],
   "source": [
    "label1=customtkinter.CTkLabel(frame1,text=\"Please choose a 28x28 image\",fg_color=\"transparent\",text_color=\"blue\",font=(\"Arial\",20))\n",
    "label1.grid(row=0,column=0,padx=10,pady=10)"
   ]
  },
  {
   "cell_type": "code",
   "execution_count": 42,
   "id": "ce2f8939",
   "metadata": {},
   "outputs": [],
   "source": [
    "button1=customtkinter.CTkButton(frame1,text=\"Choose image\",command=upload_file,corner_radius=15,fg_color=\"blue\")\n",
    "button1.grid(row=1,column=0,padx=10,pady=10)"
   ]
  },
  {
   "cell_type": "code",
   "execution_count": 43,
   "id": "e4537609",
   "metadata": {
    "scrolled": true
   },
   "outputs": [],
   "source": [
    "app.mainloop()\n"
   ]
  },
  {
   "cell_type": "code",
   "execution_count": null,
   "id": "120e581f",
   "metadata": {},
   "outputs": [],
   "source": []
  },
  {
   "cell_type": "code",
   "execution_count": null,
   "id": "fc7723a0",
   "metadata": {},
   "outputs": [],
   "source": []
  }
 ],
 "metadata": {
  "kernelspec": {
   "display_name": "Python 3 (ipykernel)",
   "language": "python",
   "name": "python3"
  },
  "language_info": {
   "codemirror_mode": {
    "name": "ipython",
    "version": 3
   },
   "file_extension": ".py",
   "mimetype": "text/x-python",
   "name": "python",
   "nbconvert_exporter": "python",
   "pygments_lexer": "ipython3",
   "version": "3.11.5"
  }
 },
 "nbformat": 4,
 "nbformat_minor": 5
}
