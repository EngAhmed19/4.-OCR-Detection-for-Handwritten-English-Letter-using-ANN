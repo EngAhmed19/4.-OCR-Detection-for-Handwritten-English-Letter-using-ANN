{
 "cells": [
  {
   "cell_type": "code",
   "execution_count": 1,
   "id": "d589b595",
   "metadata": {},
   "outputs": [
    {
     "name": "stdout",
     "output_type": "stream",
     "text": [
      "WARNING:tensorflow:From C:\\ProgramData\\Anaconda3\\envs\\py311\\Lib\\site-packages\\keras\\src\\losses.py:2976: The name tf.losses.sparse_softmax_cross_entropy is deprecated. Please use tf.compat.v1.losses.sparse_softmax_cross_entropy instead.\n",
      "\n",
      "WARNING:tensorflow:From C:\\ProgramData\\Anaconda3\\envs\\py311\\Lib\\site-packages\\keras\\src\\backend.py:873: The name tf.get_default_graph is deprecated. Please use tf.compat.v1.get_default_graph instead.\n",
      "\n",
      "WARNING:tensorflow:From C:\\ProgramData\\Anaconda3\\envs\\py311\\Lib\\site-packages\\keras\\src\\optimizers\\__init__.py:309: The name tf.train.Optimizer is deprecated. Please use tf.compat.v1.train.Optimizer instead.\n",
      "\n",
      "Epoch 1/50\n",
      "WARNING:tensorflow:From C:\\ProgramData\\Anaconda3\\envs\\py311\\Lib\\site-packages\\keras\\src\\utils\\tf_utils.py:492: The name tf.ragged.RaggedTensorValue is deprecated. Please use tf.compat.v1.ragged.RaggedTensorValue instead.\n",
      "\n",
      "WARNING:tensorflow:From C:\\ProgramData\\Anaconda3\\envs\\py311\\Lib\\site-packages\\keras\\src\\engine\\base_layer_utils.py:384: The name tf.executing_eagerly_outside_functions is deprecated. Please use tf.compat.v1.executing_eagerly_outside_functions instead.\n",
      "\n",
      "2775/2775 [==============================] - 24s 9ms/step - loss: 0.6127 - accuracy: 0.8134\n",
      "Epoch 2/50\n",
      "2775/2775 [==============================] - 22s 8ms/step - loss: 0.3331 - accuracy: 0.8930\n",
      "Epoch 3/50\n",
      "2775/2775 [==============================] - 24s 9ms/step - loss: 0.2666 - accuracy: 0.9110\n",
      "Epoch 4/50\n",
      "2775/2775 [==============================] - 24s 9ms/step - loss: 0.2223 - accuracy: 0.9234\n",
      "Epoch 5/50\n",
      "2775/2775 [==============================] - 24s 9ms/step - loss: 0.1914 - accuracy: 0.9324\n",
      "Epoch 6/50\n",
      "2775/2775 [==============================] - 25s 9ms/step - loss: 0.1674 - accuracy: 0.9393\n",
      "Epoch 7/50\n",
      "2775/2775 [==============================] - 25s 9ms/step - loss: 0.1497 - accuracy: 0.9447\n",
      "Epoch 8/50\n",
      "2775/2775 [==============================] - 24s 9ms/step - loss: 0.1351 - accuracy: 0.9494\n",
      "Epoch 9/50\n",
      "2775/2775 [==============================] - 24s 9ms/step - loss: 0.1246 - accuracy: 0.9527\n",
      "Epoch 10/50\n",
      "2775/2775 [==============================] - 24s 9ms/step - loss: 0.1137 - accuracy: 0.9561\n",
      "Epoch 11/50\n",
      "2775/2775 [==============================] - 24s 9ms/step - loss: 0.1079 - accuracy: 0.9575\n",
      "Epoch 12/50\n",
      "2775/2775 [==============================] - 26s 9ms/step - loss: 0.1014 - accuracy: 0.9604\n",
      "Epoch 13/50\n",
      "2775/2775 [==============================] - 25s 9ms/step - loss: 0.0963 - accuracy: 0.9622\n",
      "Epoch 14/50\n",
      "2775/2775 [==============================] - 23s 8ms/step - loss: 0.0903 - accuracy: 0.9639\n",
      "Epoch 15/50\n",
      "2775/2775 [==============================] - 23s 8ms/step - loss: 0.0883 - accuracy: 0.9647\n",
      "Epoch 16/50\n",
      "2775/2775 [==============================] - 23s 8ms/step - loss: 0.0830 - accuracy: 0.9665\n",
      "Epoch 17/50\n",
      "2775/2775 [==============================] - 23s 8ms/step - loss: 0.0818 - accuracy: 0.9669\n",
      "Epoch 18/50\n",
      "2775/2775 [==============================] - 23s 8ms/step - loss: 0.0793 - accuracy: 0.9681\n",
      "Epoch 19/50\n",
      "2775/2775 [==============================] - 24s 9ms/step - loss: 0.0762 - accuracy: 0.9695\n",
      "Epoch 20/50\n",
      "2775/2775 [==============================] - 23s 8ms/step - loss: 0.0736 - accuracy: 0.9700\n",
      "Epoch 21/50\n",
      "2775/2775 [==============================] - 23s 8ms/step - loss: 0.0739 - accuracy: 0.9702\n",
      "Epoch 22/50\n",
      "2775/2775 [==============================] - 24s 9ms/step - loss: 0.0685 - accuracy: 0.9720\n",
      "Epoch 23/50\n",
      "2775/2775 [==============================] - 24s 9ms/step - loss: 0.0698 - accuracy: 0.9725\n",
      "Epoch 24/50\n",
      "2775/2775 [==============================] - 27s 10ms/step - loss: 0.0672 - accuracy: 0.9730\n",
      "Epoch 25/50\n",
      "2775/2775 [==============================] - 23s 8ms/step - loss: 0.0683 - accuracy: 0.9728\n",
      "Epoch 26/50\n",
      "2775/2775 [==============================] - 23s 8ms/step - loss: 0.0621 - accuracy: 0.9742\n",
      "Epoch 27/50\n",
      "2775/2775 [==============================] - 23s 8ms/step - loss: 0.0669 - accuracy: 0.9737\n",
      "Epoch 28/50\n",
      "2775/2775 [==============================] - 24s 9ms/step - loss: 0.0622 - accuracy: 0.9747\n",
      "Epoch 29/50\n",
      "2775/2775 [==============================] - 23s 8ms/step - loss: 0.0613 - accuracy: 0.9754\n",
      "Epoch 30/50\n",
      "2775/2775 [==============================] - 23s 8ms/step - loss: 0.0619 - accuracy: 0.9752\n",
      "Epoch 31/50\n",
      "2775/2775 [==============================] - 24s 9ms/step - loss: 0.0597 - accuracy: 0.9757\n",
      "Epoch 32/50\n",
      "2775/2775 [==============================] - 25s 9ms/step - loss: 0.0582 - accuracy: 0.9769\n",
      "Epoch 33/50\n",
      "2775/2775 [==============================] - 26s 9ms/step - loss: 0.0567 - accuracy: 0.9768\n",
      "Epoch 34/50\n",
      "2775/2775 [==============================] - 24s 9ms/step - loss: 0.0554 - accuracy: 0.9779\n",
      "Epoch 35/50\n",
      "2775/2775 [==============================] - 22s 8ms/step - loss: 0.0576 - accuracy: 0.9779\n",
      "Epoch 36/50\n",
      "2775/2775 [==============================] - 24s 9ms/step - loss: 0.0582 - accuracy: 0.9775\n",
      "Epoch 37/50\n",
      "2775/2775 [==============================] - 22s 8ms/step - loss: 0.0553 - accuracy: 0.9779\n",
      "Epoch 38/50\n",
      "2775/2775 [==============================] - 22s 8ms/step - loss: 0.0519 - accuracy: 0.9792\n",
      "Epoch 39/50\n",
      "2775/2775 [==============================] - 22s 8ms/step - loss: 0.0546 - accuracy: 0.9791\n",
      "Epoch 40/50\n",
      "2775/2775 [==============================] - 23s 8ms/step - loss: 0.0527 - accuracy: 0.9793\n",
      "Epoch 41/50\n",
      "2775/2775 [==============================] - 23s 8ms/step - loss: 0.0525 - accuracy: 0.9796\n",
      "Epoch 42/50\n",
      "2775/2775 [==============================] - 24s 9ms/step - loss: 0.0512 - accuracy: 0.9802\n",
      "Epoch 43/50\n",
      "2775/2775 [==============================] - 23s 8ms/step - loss: 0.0495 - accuracy: 0.9799\n",
      "Epoch 44/50\n",
      "2775/2775 [==============================] - 23s 8ms/step - loss: 0.0497 - accuracy: 0.9806\n",
      "Epoch 45/50\n",
      "2775/2775 [==============================] - 24s 9ms/step - loss: 0.0517 - accuracy: 0.9807\n",
      "Epoch 46/50\n",
      "2775/2775 [==============================] - 24s 9ms/step - loss: 0.0516 - accuracy: 0.9803\n",
      "Epoch 47/50\n",
      "2775/2775 [==============================] - 24s 9ms/step - loss: 0.0457 - accuracy: 0.9824\n",
      "Epoch 48/50\n",
      "2775/2775 [==============================] - 26s 9ms/step - loss: 0.0469 - accuracy: 0.9824\n",
      "Epoch 49/50\n",
      "2775/2775 [==============================] - 23s 8ms/step - loss: 0.0500 - accuracy: 0.9816\n",
      "Epoch 50/50\n",
      "2775/2775 [==============================] - 23s 8ms/step - loss: 0.0440 - accuracy: 0.9824\n",
      "463/463 [==============================] - 1s 1ms/step - loss: 1.1673 - accuracy: 0.8872\n",
      "1.167317509651184 0.8872297406196594\n",
      "463/463 [==============================] - 1s 971us/step\n",
      "[ 0.  0.  0. ... 18. 18. 18.]\n",
      "[ 0  0  0 ... 18 18 18]\n",
      "Accuracy: 88.72%\n",
      "Precision: 0.90\n",
      "Recall: 0.89\n",
      "F1 Score: 0.89\n"
     ]
    },
    {
     "name": "stderr",
     "output_type": "stream",
     "text": [
      "C:\\ProgramData\\Anaconda3\\envs\\py311\\Lib\\site-packages\\sklearn\\metrics\\_classification.py:1469: UndefinedMetricWarning: Recall is ill-defined and being set to 0.0 in labels with no true samples. Use `zero_division` parameter to control this behavior.\n",
      "  _warn_prf(average, modifier, msg_start, len(result))\n"
     ]
    },
    {
     "name": "stdout",
     "output_type": "stream",
     "text": [
      "INFO:tensorflow:Assets written to: D:/Ai model/model2\\assets\n"
     ]
    },
    {
     "name": "stderr",
     "output_type": "stream",
     "text": [
      "INFO:tensorflow:Assets written to: D:/Ai model/model2\\assets\n"
     ]
    }
   ],
   "source": [
    "from FinalModel2 import model"
   ]
  },
  {
   "cell_type": "code",
   "execution_count": 2,
   "id": "a9a11d96",
   "metadata": {},
   "outputs": [],
   "source": [
    "import customtkinter\n",
    "import tkinter as tk\n",
    "from tkinter import filedialog\n",
    "import numpy as np\n",
    "\n",
    "from PIL import Image\n",
    "from skimage import feature,io,exposure\n",
    "import tensorflow as tf\n"
   ]
  },
  {
   "cell_type": "code",
   "execution_count": 3,
   "id": "dabd9f7f",
   "metadata": {},
   "outputs": [],
   "source": [
    "def MakePrediction(img):\n",
    "    prediction=model.predict([img])\n",
    "    \n",
    "    return np.argmax(prediction)"
   ]
  },
  {
   "cell_type": "code",
   "execution_count": 4,
   "id": "3d2d9580",
   "metadata": {},
   "outputs": [],
   "source": [
    "\n",
    "\n",
    "def determine_letter(prediction):\n",
    "    letters={i: chr(ord('A') + i) for i in range(26)}\n",
    "    \n",
    "    return letters[prediction]\n",
    "    "
   ]
  },
  {
   "cell_type": "code",
   "execution_count": 5,
   "id": "ce4c4b80",
   "metadata": {},
   "outputs": [],
   "source": [
    "def upload_file():\n",
    "    file_path = filedialog.askopenfilename()\n",
    "    # Process the uploaded file path or perform any desired actions\n",
    "    if file_path:\n",
    "        image=Image.open(file_path)\n",
    "        \n",
    "        image_array=np.asarray(image)\n",
    "        \n",
    "        \n",
    "        image_array_2d= image_array[:,:,0].reshape((1,784))\n",
    "        \n",
    "        image_array_2d=image_array_2d/255\n",
    "        \n",
    "        \"\"\"\n",
    "        hog_image=extract_feature(image_array_2d)\n",
    "        \n",
    "        hog_image=hog_image.reshape((1,81))\n",
    "        \"\"\"\n",
    "        \n",
    "        \n",
    "        prediction=MakePrediction(image_array_2d)\n",
    "        \n",
    "        \n",
    "        predicted_letter=determine_letter(prediction)\n",
    "        \n",
    "        top_window=customtkinter.CTkToplevel(app)\n",
    "        \n",
    "        top_window.grid_columnconfigure(0,weight=1)\n",
    "        top_window.grid_rowconfigure(0,weight=1)\n",
    "        \n",
    "        top_window.title(\"The Pridiction Of a Model\")\n",
    "        \n",
    "        \n",
    "        screen_width=app.winfo_screenwidth()\n",
    "        screen_height=app.winfo_screenheight()\n",
    "\n",
    "        w=350\n",
    "        h=200\n",
    "\n",
    "        a=(screen_width/2)-(w/2)\n",
    "        b=(screen_height/2)-(h/2)\n",
    "\n",
    "\n",
    "        top_window.geometry(\"%dx%d+%d+%d\" %(w,h,a,b))\n",
    "        \n",
    "        label2=customtkinter.CTkLabel(top_window,text=f\"The Character in image is {predicted_letter}\",text_color=\"blue\",fg_color=\"transparent\",font=(\"Arial\",22))\n",
    "        label2.grid(row=0,column=0,padx=10,pady=10)\n",
    "                \n",
    "        top_window.attributes('-topmost', 'true')"
   ]
  },
  {
   "cell_type": "code",
   "execution_count": 15,
   "id": "74938ea2",
   "metadata": {},
   "outputs": [],
   "source": [
    "app=customtkinter.CTk()"
   ]
  },
  {
   "cell_type": "code",
   "execution_count": 16,
   "id": "34f7f618",
   "metadata": {},
   "outputs": [],
   "source": [
    "customtkinter.set_appearance_mode(\"dark\")\n",
    "customtkinter.set_default_color_theme(\"dark-blue\")"
   ]
  },
  {
   "cell_type": "code",
   "execution_count": 17,
   "id": "c7827ca6",
   "metadata": {},
   "outputs": [],
   "source": [
    "screen_width=app.winfo_screenwidth()\n",
    "screen_height=app.winfo_screenheight()\n",
    "\n",
    "w=500\n",
    "h=500\n",
    "\n",
    "a=(screen_width/2)-(w/2)\n",
    "b=(screen_height/2)-(h/2)\n",
    "\n",
    "\n",
    "app.geometry(\"%dx%d+%d+%d\" %(w,h,a,b))"
   ]
  },
  {
   "cell_type": "code",
   "execution_count": 18,
   "id": "0afac87a",
   "metadata": {},
   "outputs": [
    {
     "data": {
      "text/plain": [
       "''"
      ]
     },
     "execution_count": 18,
     "metadata": {},
     "output_type": "execute_result"
    }
   ],
   "source": [
    "app.title(\"OCR for HandWritten character\")\n"
   ]
  },
  {
   "cell_type": "code",
   "execution_count": 19,
   "id": "23103709",
   "metadata": {},
   "outputs": [],
   "source": [
    "app.grid_columnconfigure(0,weight=1)\n",
    "app.grid_rowconfigure(0,weight=1)\n",
    "\n"
   ]
  },
  {
   "cell_type": "code",
   "execution_count": 20,
   "id": "fc789f9b",
   "metadata": {},
   "outputs": [],
   "source": [
    "frame1=customtkinter.CTkFrame(app,width=300,height=300,fg_color=\"transparent\")\n",
    "frame1.grid(row=0,column=0,padx=10,pady=10)"
   ]
  },
  {
   "cell_type": "code",
   "execution_count": 21,
   "id": "acb919e2",
   "metadata": {},
   "outputs": [],
   "source": [
    "label1=customtkinter.CTkLabel(frame1,text=\"Please choose a 28x28 image\",fg_color=\"transparent\",text_color=\"blue\",font=(\"Arial\",20))\n",
    "label1.grid(row=0,column=0,padx=10,pady=10)"
   ]
  },
  {
   "cell_type": "code",
   "execution_count": 22,
   "id": "ce2f8939",
   "metadata": {},
   "outputs": [],
   "source": [
    "button1=customtkinter.CTkButton(frame1,text=\"Choose image\",command=upload_file,corner_radius=15,fg_color=\"blue\")\n",
    "button1.grid(row=1,column=0,padx=10,pady=10)"
   ]
  },
  {
   "cell_type": "code",
   "execution_count": 23,
   "id": "e4537609",
   "metadata": {
    "scrolled": true
   },
   "outputs": [
    {
     "name": "stdout",
     "output_type": "stream",
     "text": [
      "1/1 [==============================] - 0s 22ms/step\n",
      "1/1 [==============================] - 0s 22ms/step\n",
      "1/1 [==============================] - 0s 24ms/step\n",
      "1/1 [==============================] - 0s 24ms/step\n"
     ]
    },
    {
     "ename": "KeyboardInterrupt",
     "evalue": "",
     "output_type": "error",
     "traceback": [
      "\u001b[1;31m---------------------------------------------------------------------------\u001b[0m",
      "\u001b[1;31mKeyboardInterrupt\u001b[0m                         Traceback (most recent call last)",
      "Cell \u001b[1;32mIn[23], line 1\u001b[0m\n\u001b[1;32m----> 1\u001b[0m app\u001b[38;5;241m.\u001b[39mmainloop()\n",
      "File \u001b[1;32mC:\\ProgramData\\Anaconda3\\envs\\py311\\Lib\\site-packages\\customtkinter\\windows\\ctk_tk.py:165\u001b[0m, in \u001b[0;36mCTk.mainloop\u001b[1;34m(self, *args, **kwargs)\u001b[0m\n\u001b[0;32m    161\u001b[0m             \u001b[38;5;28mself\u001b[39m\u001b[38;5;241m.\u001b[39mdeiconify()\n\u001b[0;32m    163\u001b[0m     \u001b[38;5;28mself\u001b[39m\u001b[38;5;241m.\u001b[39m_window_exists \u001b[38;5;241m=\u001b[39m \u001b[38;5;28;01mTrue\u001b[39;00m\n\u001b[1;32m--> 165\u001b[0m \u001b[38;5;28msuper\u001b[39m()\u001b[38;5;241m.\u001b[39mmainloop(\u001b[38;5;241m*\u001b[39margs, \u001b[38;5;241m*\u001b[39m\u001b[38;5;241m*\u001b[39mkwargs)\n",
      "File \u001b[1;32mC:\\ProgramData\\Anaconda3\\envs\\py311\\Lib\\tkinter\\__init__.py:1485\u001b[0m, in \u001b[0;36mMisc.mainloop\u001b[1;34m(self, n)\u001b[0m\n\u001b[0;32m   1483\u001b[0m \u001b[38;5;28;01mdef\u001b[39;00m \u001b[38;5;21mmainloop\u001b[39m(\u001b[38;5;28mself\u001b[39m, n\u001b[38;5;241m=\u001b[39m\u001b[38;5;241m0\u001b[39m):\n\u001b[0;32m   1484\u001b[0m \u001b[38;5;250m    \u001b[39m\u001b[38;5;124;03m\"\"\"Call the mainloop of Tk.\"\"\"\u001b[39;00m\n\u001b[1;32m-> 1485\u001b[0m     \u001b[38;5;28mself\u001b[39m\u001b[38;5;241m.\u001b[39mtk\u001b[38;5;241m.\u001b[39mmainloop(n)\n",
      "\u001b[1;31mKeyboardInterrupt\u001b[0m: "
     ]
    }
   ],
   "source": [
    "app.mainloop()"
   ]
  },
  {
   "cell_type": "code",
   "execution_count": null,
   "id": "120e581f",
   "metadata": {},
   "outputs": [],
   "source": []
  },
  {
   "cell_type": "code",
   "execution_count": null,
   "id": "fc7723a0",
   "metadata": {},
   "outputs": [],
   "source": []
  }
 ],
 "metadata": {
  "kernelspec": {
   "display_name": "Python 3 (ipykernel)",
   "language": "python",
   "name": "python3"
  },
  "language_info": {
   "codemirror_mode": {
    "name": "ipython",
    "version": 3
   },
   "file_extension": ".py",
   "mimetype": "text/x-python",
   "name": "python",
   "nbconvert_exporter": "python",
   "pygments_lexer": "ipython3",
   "version": "3.11.5"
  }
 },
 "nbformat": 4,
 "nbformat_minor": 5
}
