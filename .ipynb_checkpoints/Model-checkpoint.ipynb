{
 "cells": [
  {
   "cell_type": "code",
   "execution_count": 2,
   "id": "b1002299",
   "metadata": {
    "ExecuteTime": {
     "end_time": "2023-12-09T02:57:56.287101300Z",
     "start_time": "2023-12-09T02:57:56.254885300Z"
    }
   },
   "outputs": [
    {
     "name": "stdout",
     "output_type": "stream",
     "text": [
      "WARNING:tensorflow:From C:\\ProgramData\\Anaconda3\\envs\\py311\\Lib\\site-packages\\keras\\src\\losses.py:2976: The name tf.losses.sparse_softmax_cross_entropy is deprecated. Please use tf.compat.v1.losses.sparse_softmax_cross_entropy instead.\n",
      "\n"
     ]
    }
   ],
   "source": [
    "import numpy as np \n",
    "import matplotlib.pyplot as plt\n",
    "import pandas as pd\n",
    "\n",
    "import tensorflow as tf\n",
    "from tensorflow.keras.layers import Dense\n",
    "from tensorflow.keras.models import Sequential\n",
    "from tensorflow.keras.optimizers import Adam\n",
    "from tensorflow.keras.losses import SparseCategoricalCrossentropy\n",
    "\n",
    "from sklearn.model_selection import train_test_split\n",
    "from skimage import feature,color,io,exposure\n",
    "\n",
    "\n",
    "%matplotlib inline"
   ]
  },
  {
   "cell_type": "markdown",
   "id": "f1afa6e08de4daf",
   "metadata": {},
   "source": []
  },
  {
   "cell_type": "code",
   "execution_count": 3,
   "id": "595338f5",
   "metadata": {},
   "outputs": [],
   "source": [
    "letter_images=pd.read_csv(\"emnist-letters-train.csv\")"
   ]
  },
  {
   "cell_type": "code",
   "execution_count": 4,
   "id": "f1cc2d77",
   "metadata": {},
   "outputs": [],
   "source": [
    "letter_images.iloc[:,0]=letter_images.iloc[:,0]-1"
   ]
  },
  {
   "cell_type": "code",
   "execution_count": 149,
   "id": "441b6ae6",
   "metadata": {},
   "outputs": [
    {
     "data": {
      "text/plain": [
       "0"
      ]
     },
     "execution_count": 149,
     "metadata": {},
     "output_type": "execute_result"
    }
   ],
   "source": [
    "letter_images.iloc[:,0].min()"
   ]
  },
  {
   "cell_type": "code",
   "execution_count": 6,
   "id": "4ee2f0db",
   "metadata": {},
   "outputs": [],
   "source": [
    "img1=img1.values"
   ]
  },
  {
   "cell_type": "code",
   "execution_count": 7,
   "id": "051894e1",
   "metadata": {},
   "outputs": [],
   "source": [
    "img1=img1.reshape((28,28))"
   ]
  },
  {
   "cell_type": "code",
   "execution_count": 9,
   "id": "e6ae0e0e",
   "metadata": {},
   "outputs": [
    {
     "data": {
      "text/plain": [
       "(28, 28)"
      ]
     },
     "execution_count": 9,
     "metadata": {},
     "output_type": "execute_result"
    }
   ],
   "source": [
    "img1.shape"
   ]
  },
  {
   "cell_type": "code",
   "execution_count": 10,
   "id": "93f5ec25",
   "metadata": {},
   "outputs": [
    {
     "data": {
      "text/plain": [
       "array([[  0,   0,   0,   0,   0,   0,   0,   0,   0,   0,   0,   0,   0,\n",
       "          0,   0,   0,   0,   0,   0,   0,   0,   0,   0,   0,   0,   0,\n",
       "          0,   0],\n",
       "       [  0,   0,   0,   0,   0,   0,   0,   0,   0,   0,   0,   0,   0,\n",
       "          0,   0,   0,   0,   0,   0,   0,   0,   0,   0,   0,   0,   0,\n",
       "          0,   0],\n",
       "       [  0,   0,   0,   0,   0,   0,   0,   0,   0,   0,   0,   0,   0,\n",
       "          3,   8,  32,  37,  37,  37,  37,  37,  20,   7,   0,   0,   0,\n",
       "          0,   0],\n",
       "       [  0,   0,   0,   0,   0,   0,   0,   0,   0,   0,   0,   0,   4,\n",
       "         22,  46, 114, 127, 127, 127, 127, 125,  77,  32,   0,   0,   0,\n",
       "          0,   0],\n",
       "       [  0,   0,   0,   0,   0,   0,   0,   0,   0,   1,  22,  46, 115,\n",
       "        172, 208, 245, 250, 250, 250, 250, 249, 206, 126,   8,   0,   0,\n",
       "          0,   0],\n",
       "       [  0,   0,   0,   0,   0,   0,   0,   0,   3,  36, 159, 207, 245,\n",
       "        252, 254, 254, 254, 255, 255, 254, 254, 245, 204,  34,   0,   0,\n",
       "          0,   0],\n",
       "       [  0,   0,   0,   0,   0,   0,   0,   7,  22,  95, 218, 244, 254,\n",
       "        254, 254, 254, 255, 255, 255, 255, 254, 250, 220,  50,   0,   0,\n",
       "          0,   0],\n",
       "       [  0,   0,   0,   0,   0,   1,   8,  90, 159, 232, 253, 254, 254,\n",
       "        251, 250, 250, 250, 250, 250, 254, 254, 254, 245, 114,   4,   0,\n",
       "          0,   0],\n",
       "       [  0,   0,   0,   0,   0,  20,  77, 218, 245, 254, 254, 254, 234,\n",
       "        145, 129, 127, 127, 127, 141, 222, 247, 254, 250, 129,   5,   0,\n",
       "          0,   0],\n",
       "       [  0,   0,   0,   0,   0,  34, 115, 243, 253, 254, 252, 250, 207,\n",
       "         64,  41,  38,  41,  40,  53, 176, 232, 254, 250, 141,  11,   1,\n",
       "          0,   0],\n",
       "       [  0,   0,   0,   0,   3,  84, 172, 252, 254, 251, 189, 144,  77,\n",
       "         11,  14,  38,  99,  76,  12,  84, 172, 252, 254, 220,  77,  20,\n",
       "          0,   0],\n",
       "       [  0,   0,   0,   0,  21, 170, 232, 254, 254, 220,  84,  40,  30,\n",
       "         19,  52, 170, 236, 213,  66,  36, 115, 245, 254, 249, 125,  37,\n",
       "          0,   0],\n",
       "       [  0,   0,   0,   0,  34, 204, 245, 254, 252, 177,  47,  52,  75,\n",
       "         22,  47, 207, 250, 231,  82,  23,  82, 233, 252, 250, 127,  37,\n",
       "          0,   0],\n",
       "       [  0,   0,   0,   2,  82, 233, 252, 254, 251, 143,  18,  19,  27,\n",
       "         26,  83, 233, 254, 246, 115,   8,  34, 204, 245, 250, 127,  37,\n",
       "          0,   0],\n",
       "       [  0,   0,   0,   4, 125, 249, 254, 254, 254, 221, 107,  51,   2,\n",
       "         37, 125, 249, 254, 250, 129,  10,  14, 143, 222, 249, 125,  37,\n",
       "          0,   0],\n",
       "       [  0,   0,   0,   5, 129, 250, 254, 254, 254, 233,  92,  32,   0,\n",
       "         37, 127, 250, 254, 252, 191, 129, 129, 191, 236, 233,  82,  21,\n",
       "          0,   0],\n",
       "       [  0,   0,   0,   9, 140, 250, 254, 255, 254, 222,  52,  11,   0,\n",
       "         39, 129, 250, 254, 254, 236, 218, 218, 236, 249, 220,  50,   9,\n",
       "          0,   0],\n",
       "       [  0,   0,   4,  32, 203, 254, 254, 255, 254, 217,  42,  13,  32,\n",
       "        101, 177, 252, 254, 254, 254, 254, 254, 254, 251, 170,  21,   2,\n",
       "          0,   0],\n",
       "       [  0,   0,   4,  32, 203, 254, 254, 254, 254, 229, 129, 117, 140,\n",
       "        212, 240, 254, 255, 254, 254, 254, 254, 248, 222,  79,   3,   0,\n",
       "          0,   0],\n",
       "       [  0,   0,   2,  21, 174, 252, 254, 254, 253, 217, 151, 148, 101,\n",
       "        174, 222, 254, 254, 254, 254, 250, 250, 236, 188,  38,   0,   0,\n",
       "          0,   0],\n",
       "       [  0,   0,   2,  21, 172, 252, 254, 247, 221,  92,  26,  27,   8,\n",
       "         53, 141, 250, 254, 254, 222, 141, 130, 152, 128,  16,   0,   0,\n",
       "          0,   0],\n",
       "       [  0,   0,   2,  20, 170, 252, 253, 207, 127,  10,   0,   0,   0,\n",
       "         37, 125, 249, 254, 250, 139,  13,   6,  16,  15,   1,   0,   0,\n",
       "          0,   0],\n",
       "       [  0,   0,   0,   9, 140, 250, 247, 159,  79,   3,   0,   0,   0,\n",
       "         32, 113, 243, 253, 243, 115,   4,   0,   1,   1,   0,   0,   0,\n",
       "          0,   0],\n",
       "       [  0,   0,   0,   4, 125, 237, 206,  47,  10,   0,   0,   0,   0,\n",
       "          7,  33, 158, 200, 158,  33,   0,   0,   0,   0,   0,   0,   0,\n",
       "          0,   0],\n",
       "       [  0,   0,   0,   2,  63, 111,  76,   7,   0,   0,   0,   0,   0,\n",
       "          0,   1,  20,  32,  20,   1,   0,   0,   0,   0,   0,   0,   0,\n",
       "          0,   0],\n",
       "       [  0,   0,   0,   0,  18,  32,  20,   1,   0,   0,   0,   0,   0,\n",
       "          0,   0,   2,   3,   2,   0,   0,   0,   0,   0,   0,   0,   0,\n",
       "          0,   0],\n",
       "       [  0,   0,   0,   0,   0,   0,   0,   0,   0,   0,   0,   0,   0,\n",
       "          0,   0,   0,   0,   0,   0,   0,   0,   0,   0,   0,   0,   0,\n",
       "          0,   0],\n",
       "       [  0,   0,   0,   0,   0,   0,   0,   0,   0,   0,   0,   0,   0,\n",
       "          0,   0,   0,   0,   0,   0,   0,   0,   0,   0,   0,   0,   0,\n",
       "          0,   0]], dtype=int64)"
      ]
     },
     "execution_count": 10,
     "metadata": {},
     "output_type": "execute_result"
    }
   ],
   "source": [
    "img1"
   ]
  },
  {
   "cell_type": "code",
   "execution_count": 13,
   "id": "4675ef61",
   "metadata": {},
   "outputs": [
    {
     "data": {
      "image/png": "[encoded data removed]",
      "text/plain": [
       "<Figure size 640x480 with 1 Axes>"
      ]
     },
     "metadata": {},
     "output_type": "display_data"
    }
   ],
   "source": [
    "plt.imshow(img1,cmap=\"gray\")\n",
    "plt.show()"
   ]
  },
  {
   "cell_type": "code",
   "execution_count": 14,
   "id": "ae8867a6",
   "metadata": {},
   "outputs": [],
   "source": [
    "img85=letter_images.iloc[[85],1:]\n",
    "img85=img85.values"
   ]
  },
  {
   "cell_type": "code",
   "execution_count": 15,
   "id": "8be851f8",
   "metadata": {},
   "outputs": [],
   "source": [
    "img85=img85.reshape((28,28))"
   ]
  },
  {
   "cell_type": "code",
   "execution_count": 16,
   "id": "3858e7f1",
   "metadata": {},
   "outputs": [
    {
     "data": {
      "image/png": "[encoded data removed]",
      "text/plain": [
       "<Figure size 640x480 with 1 Axes>"
      ]
     },
     "metadata": {},
     "output_type": "display_data"
    }
   ],
   "source": [
    "plt.imshow(img85,cmap=\"gray\")\n",
    "plt.show()"
   ]
  },
  {
   "cell_type": "code",
   "execution_count": 19,
   "id": "0b128f28",
   "metadata": {},
   "outputs": [],
   "source": [
    "label85=letter_images.iloc[85,0]"
   ]
  },
  {
   "cell_type": "code",
   "execution_count": 20,
   "id": "9bb96904",
   "metadata": {},
   "outputs": [
    {
     "data": {
      "text/plain": [
       "5"
      ]
     },
     "execution_count": 20,
     "metadata": {},
     "output_type": "execute_result"
    }
   ],
   "source": [
    "label85"
   ]
  },
  {
   "cell_type": "code",
   "execution_count": 21,
   "id": "9348ccf6",
   "metadata": {},
   "outputs": [],
   "source": [
    "label1=letter_images.iloc[0,0]"
   ]
  },
  {
   "cell_type": "code",
   "execution_count": 22,
   "id": "2b0881cb",
   "metadata": {},
   "outputs": [
    {
     "data": {
      "text/plain": [
       "7"
      ]
     },
     "execution_count": 22,
     "metadata": {},
     "output_type": "execute_result"
    }
   ],
   "source": [
    "label1"
   ]
  },
  {
   "cell_type": "code",
   "execution_count": 23,
   "id": "a7c05e41",
   "metadata": {},
   "outputs": [
    {
     "data": {
      "text/plain": [
       "1"
      ]
     },
     "execution_count": 23,
     "metadata": {},
     "output_type": "execute_result"
    }
   ],
   "source": [
    "letter_images.iloc[:,0].min()"
   ]
  },
  {
   "cell_type": "code",
   "execution_count": 24,
   "id": "aa8ee901",
   "metadata": {},
   "outputs": [
    {
     "data": {
      "text/plain": [
       "26"
      ]
     },
     "execution_count": 24,
     "metadata": {},
     "output_type": "execute_result"
    }
   ],
   "source": [
    "letter_images.iloc[:,0].max()"
   ]
  },
  {
   "cell_type": "code",
   "execution_count": 27,
   "id": "55087237",
   "metadata": {},
   "outputs": [],
   "source": [
    "img70=letter_images.iloc[[68],1:]\n",
    "img70=img70.values\n"
   ]
  },
  {
   "cell_type": "code",
   "execution_count": 150,
   "id": "bcc0965b",
   "metadata": {},
   "outputs": [],
   "source": [
    "X=letter_images.iloc[:,1:].values\n",
    "y=letter_images.iloc[:,0].values\n"
   ]
  },
  {
   "cell_type": "code",
   "execution_count": 53,
   "id": "511c5a9f",
   "metadata": {},
   "outputs": [],
   "source": [
    "def extract_hog_features(image):\n",
    "    # Convert the image to grayscale\n",
    "    gray_image = color.rgb2gray(image)\n",
    "\n",
    "    # Calculate HOG features\n",
    "    hog_features, hog_image = feature.hog(gray_image, visualize=True)\n",
    "\n",
    "    # Enhance the contrast of the HOG image for better visualization\n",
    "    hog_image_rescaled = exposure.rescale_intensity(hog_image, in_range=(0, 10))\n",
    "\n",
    "    return hog_features, hog_image_rescaled"
   ]
  },
  {
   "cell_type": "code",
   "execution_count": 151,
   "id": "045b173a",
   "metadata": {},
   "outputs": [
    {
     "data": {
      "text/plain": [
       "array([[0, 0, 0, ..., 0, 0, 0],\n",
       "       [0, 0, 0, ..., 0, 0, 0],\n",
       "       [0, 0, 0, ..., 0, 0, 0],\n",
       "       ...,\n",
       "       [0, 0, 0, ..., 0, 0, 0],\n",
       "       [0, 0, 0, ..., 0, 0, 0],\n",
       "       [0, 0, 0, ..., 0, 0, 0]], dtype=int64)"
      ]
     },
     "execution_count": 151,
     "metadata": {},
     "output_type": "execute_result"
    }
   ],
   "source": [
    "X"
   ]
  },
  {
   "cell_type": "code",
   "execution_count": 152,
   "id": "a4fc62f0",
   "metadata": {},
   "outputs": [
    {
     "data": {
      "text/plain": [
       "array([ 6, 15, 14, ...,  0, 22, 11], dtype=int64)"
      ]
     },
     "execution_count": 152,
     "metadata": {},
     "output_type": "execute_result"
    }
   ],
   "source": [
    "y"
   ]
  },
  {
   "cell_type": "code",
   "execution_count": 153,
   "id": "36b0aa66",
   "metadata": {},
   "outputs": [],
   "source": [
    "X_train,X_test,y_train,y_test=train_test_split(X,y,test_size=0.20,random_state=42,stratify=y)"
   ]
  },
  {
   "cell_type": "code",
   "execution_count": 154,
   "id": "6be83efc",
   "metadata": {},
   "outputs": [
    {
     "data": {
      "text/plain": [
       "((71039, 784), (71039,))"
      ]
     },
     "execution_count": 154,
     "metadata": {},
     "output_type": "execute_result"
    }
   ],
   "source": [
    "X_train.shape,y_train.shape"
   ]
  },
  {
   "cell_type": "code",
   "execution_count": 155,
   "id": "f6954bc2",
   "metadata": {},
   "outputs": [
    {
     "data": {
      "text/plain": [
       "array([[0, 0, 0, ..., 0, 0, 0],\n",
       "       [0, 0, 0, ..., 0, 0, 0],\n",
       "       [0, 0, 0, ..., 0, 0, 0],\n",
       "       ...,\n",
       "       [0, 0, 0, ..., 0, 0, 0],\n",
       "       [0, 0, 0, ..., 0, 0, 0],\n",
       "       [0, 0, 0, ..., 0, 0, 0]], dtype=int64)"
      ]
     },
     "execution_count": 155,
     "metadata": {},
     "output_type": "execute_result"
    }
   ],
   "source": [
    "X_test"
   ]
  },
  {
   "cell_type": "code",
   "execution_count": 156,
   "id": "bb804770",
   "metadata": {},
   "outputs": [
    {
     "data": {
      "text/plain": [
       "(array([  0,   0,   0,   0,   0,   0,   0,   0,   0,   0,   0,   0,   0,\n",
       "          0,   0,   0,   0,   0,   0,   0,   0,   0,   0,   0,   0,   0,\n",
       "          0,   0,   0,   0,   0,   0,   0,   0,   0,   0,   0,   0,   0,\n",
       "          0,   0,   0,   0,   0,   0,   4,   4,   4,   4,   4,   4,   0,\n",
       "          0,   0,   0,   0,   0,   0,   0,   0,   0,   0,   0,   0,   0,\n",
       "          0,   0,   0,   0,   2,  21,  37,  51, 114, 127, 127, 127, 127,\n",
       "        113,  32,   0,   0,   0,   0,   0,   0,   0,   0,   0,   0,   0,\n",
       "          4,   9,  32,  37,  37,  39,  82, 172, 215, 222, 245, 250, 250,\n",
       "        250, 250, 241, 113,   4,   0,   0,   0,   0,   0,   0,   0,   0,\n",
       "          1,  33, 113, 140, 203, 217, 217, 217, 233, 252, 254, 254, 254,\n",
       "        254, 255, 255, 254, 249, 125,   4,   0,   0,   0,   0,   0,   0,\n",
       "          0,   0,  20, 158, 243, 250, 254, 254, 254, 254, 254, 254, 255,\n",
       "        254, 254, 254, 252, 250, 249, 218,  77,   2,   0,   0,   0,   0,\n",
       "          0,   0,   0,   1,  52, 220, 254, 254, 255, 255, 255, 254, 254,\n",
       "        252, 250, 250, 245, 220, 172, 129, 125,  77,   8,   0,   0,   0,\n",
       "          0,   0,   0,   0,   0,  22, 159, 247, 254, 254, 254, 250, 250,\n",
       "        249, 233, 172, 129, 127, 114,  50,  21,   5,   4,   2,   0,   0,\n",
       "          0,   0,   0,   0,   0,   0,   2,  81, 232, 254, 254, 236, 204,\n",
       "        141, 127, 125,  82,  21,   5,   4,   4,   0,   0,   0,   0,   0,\n",
       "          0,   0,   0,   0,   0,   0,   0,   0,   2,  77, 218, 253, 252,\n",
       "        193, 133, 128, 114,  51,  37,   8,   0,   0,   0,   0,   0,   0,\n",
       "          0,   0,   0,   0,   0,   0,   0,   0,   0,   0,   0,   8,  90,\n",
       "        207, 245, 251, 250, 250, 245, 222, 215, 127,  50,  21,   3,   0,\n",
       "          0,   0,   0,   0,   0,   0,   0,   0,   0,   0,   0,   0,   0,\n",
       "          0,   7,  46, 128, 220, 249, 250, 254, 254, 254, 246, 220, 170,\n",
       "         83,  22,   1,   0,   0,   0,   0,   0,   0,   0,   0,   0,   0,\n",
       "          0,   0,   0,   0,   0,  10,  77, 125, 140, 204, 233, 249, 254,\n",
       "        254, 251, 232, 154,  20,   0,   0,   0,   0,   0,   0,   0,   0,\n",
       "          0,   0,   0,   0,   0,   0,   0,   0,   2,   4,   9,  34,  82,\n",
       "        127, 224, 254, 254, 254, 215,  37,   0,   0,   0,   0,   0,   0,\n",
       "          0,   0,   0,   0,   0,   0,   0,   0,   0,   0,   0,   0,   0,\n",
       "          0,   4,  16, 191, 253, 254, 253, 202,  32,   0,   0,   0,   0,\n",
       "          0,   0,   0,   0,   0,   0,   0,   0,   0,   0,   0,   0,   0,\n",
       "          0,   0,   3,  65, 139, 246, 254, 251, 218,  90,   7,   0,   0,\n",
       "          0,   0,   0,   0,   0,   0,   0,   0,   0,   0,   0,   0,   0,\n",
       "          0,   0,   0,   0,  34, 174, 248, 253, 232, 171,  79,   8,   0,\n",
       "          0,   0,   0,   0,   0,   0,   0,   0,   0,   0,   0,   0,   0,\n",
       "          0,   0,   0,   0,   2,  24, 131, 244, 254, 219,  95,  22,   3,\n",
       "          0,   0,   0,   0,   0,   0,   0,   0,   0,   0,   0,   0,   0,\n",
       "          0,   0,   0,   0,   0,   4,  67, 170, 234, 253, 244,  91,   9,\n",
       "          0,   0,   0,   0,   0,   0,   0,   0,   0,   0,   0,   0,   0,\n",
       "          0,   0,   0,   0,   0,   8,  79, 171, 234, 253, 234, 132,  46,\n",
       "          1,   0,   0,   0,   0,   0,   0,   0,   0,   0,   0,   0,   0,\n",
       "          0,   0,   0,   0,   0,   0,   7,  90, 218, 251, 254, 248, 180,\n",
       "         60,  38,  37,  37,  37,  37,  37,  37,  37,  21,   3,   0,   0,\n",
       "          0,   0,   0,   0,   0,   0,   0,   1,  47, 207, 253, 254, 254,\n",
       "        242, 206, 217, 217, 217, 217, 217, 217, 217, 217, 215, 170,  78,\n",
       "          7,   0,   0,   0,   0,   0,   0,   0,   0,  22, 159, 247, 254,\n",
       "        255, 254, 254, 253, 254, 254, 254, 254, 254, 254, 254, 254, 254,\n",
       "        251, 201,  32,   0,   0,   0,   0,   0,   0,   0,   1,  68, 225,\n",
       "        254, 254, 254, 254, 250, 250, 250, 250, 250, 250, 250, 250, 250,\n",
       "        252, 254, 253, 202,  32,   0,   0,   0,   0,   0,   0,   0,   0,\n",
       "         32, 157, 215, 217, 217, 203, 140, 127, 127, 127, 127, 127, 127,\n",
       "        127, 129, 188, 243, 207,  90,   7,   0,   0,   0,   0,   0,   0,\n",
       "          0,   0,   1,  20,  37,  37,  37,  32,   9,   4,   4,   4,   4,\n",
       "          4,   4,   4,   6,  66, 111,  46,   7,   0,   0,   0,   0,   0,\n",
       "          0,   0,   0,   0,   0,   0,   0,   0,   0,   0,   0,   0,   0,\n",
       "          0,   0,   0,   0,   0,   0,   2,   3,   0,   0,   0,   0,   0,\n",
       "          0,   0,   0,   0,   0,   0,   0,   0,   0,   0,   0,   0,   0,\n",
       "          0,   0,   0,   0,   0,   0,   0,   0,   0,   0,   0,   0,   0,\n",
       "          0,   0,   0,   0], dtype=int64),\n",
       " 12)"
      ]
     },
     "execution_count": 156,
     "metadata": {},
     "output_type": "execute_result"
    }
   ],
   "source": [
    "X_train[0],y_train[0]"
   ]
  },
  {
   "cell_type": "code",
   "execution_count": 1,
   "id": "77bb9009",
   "metadata": {},
   "outputs": [
    {
     "ename": "NameError",
     "evalue": "name 'X_train' is not defined",
     "output_type": "error",
     "traceback": [
      "\u001b[1;31m---------------------------------------------------------------------------\u001b[0m",
      "\u001b[1;31mNameError\u001b[0m                                 Traceback (most recent call last)",
      "Cell \u001b[1;32mIn[1], line 1\u001b[0m\n\u001b[1;32m----> 1\u001b[0m \u001b[38;5;28mprint\u001b[39m(X_train[\u001b[38;5;241m0\u001b[39m])\n",
      "\u001b[1;31mNameError\u001b[0m: name 'X_train' is not defined"
     ]
    }
   ],
   "source": [
    "print(X_train[0])"
   ]
  },
  {
   "cell_type": "code",
   "execution_count": 157,
   "id": "0f89a742",
   "metadata": {},
   "outputs": [],
   "source": [
    "train_feature=[]\n",
    "test_feature=[]\n",
    "\n",
    "for train_img in X_train:\n",
    "    train_img=train_img.reshape((28,28))\n",
    "    \n",
    "    hog_train_img,_=feature.hog(train_img,visualize=True)\n",
    "    train_feature.append(hog_train_img)\n",
    "    \n",
    "for test_img in X_test:\n",
    "    test_img=test_img.reshape((28,28))\n",
    "    \n",
    "    hog_test_img,_=feature.hog(test_img,visualize=True)\n",
    "    test_feature.append(hog_test_img)\n",
    "    \n"
   ]
  },
  {
   "cell_type": "code",
   "execution_count": 158,
   "id": "a29a8d20",
   "metadata": {},
   "outputs": [
    {
     "data": {
      "text/plain": [
       "array([0.05155334, 0.19415064, 0.05275564, 0.03815856, 0.02209135,\n",
       "       0.        , 0.        , 0.        , 0.        , 0.00029144,\n",
       "       0.        , 0.        , 0.27890324, 0.27890324, 0.        ,\n",
       "       0.        , 0.        , 0.        , 0.05621193, 0.03579691,\n",
       "       0.0513144 , 0.27890324, 0.27890324, 0.03720735, 0.05141763,\n",
       "       0.0370999 , 0.        , 0.08828985, 0.        , 0.        ,\n",
       "       0.        , 0.00102005, 0.04224796, 0.20652768, 0.03295378,\n",
       "       0.04565095, 0.07160827, 0.02972781, 0.12953769, 0.09232473,\n",
       "       0.20324273, 0.27890324, 0.15482825, 0.03226252, 0.02185222,\n",
       "       0.05781302, 0.04621529, 0.07631305, 0.01318361, 0.05398086,\n",
       "       0.10490416, 0.12485438, 0.00645468, 0.08681119, 0.04828921,\n",
       "       0.18842894, 0.13547496, 0.        , 0.01808427, 0.        ,\n",
       "       0.0062931 , 0.        , 0.02710585, 0.04418358, 0.11880811,\n",
       "       0.27890324, 0.10739421, 0.27890324, 0.01124422, 0.        ,\n",
       "       0.02411643, 0.00704909, 0.02966041, 0.03603842, 0.10837544,\n",
       "       0.04495486, 0.27890324, 0.07049902, 0.09073399, 0.04895927,\n",
       "       0.0295158 ])"
      ]
     },
     "execution_count": 158,
     "metadata": {},
     "output_type": "execute_result"
    }
   ],
   "source": [
    "train_feature[0]"
   ]
  },
  {
   "cell_type": "code",
   "execution_count": 159,
   "id": "c4e25ca0",
   "metadata": {},
   "outputs": [
    {
     "data": {
      "text/plain": [
       "((71039, 784), (71039,))"
      ]
     },
     "execution_count": 159,
     "metadata": {},
     "output_type": "execute_result"
    }
   ],
   "source": [
    "X_train.shape,y_train.shape"
   ]
  },
  {
   "cell_type": "code",
   "execution_count": 160,
   "id": "7ee4b77c",
   "metadata": {},
   "outputs": [
    {
     "data": {
      "text/plain": [
       "((17760, 784), (17760,))"
      ]
     },
     "execution_count": 160,
     "metadata": {},
     "output_type": "execute_result"
    }
   ],
   "source": [
    "X_test.shape,y_test.shape"
   ]
  },
  {
   "cell_type": "code",
   "execution_count": 161,
   "id": "a87d6720",
   "metadata": {},
   "outputs": [
    {
     "data": {
      "text/plain": [
       "Text(0.5, 1.0, 'hog image')"
      ]
     },
     "execution_count": 161,
     "metadata": {},
     "output_type": "execute_result"
    },
    {
     "data": {
      "image/png": "[encoded data removed]",
      "text/plain": [
       "<Figure size 640x480 with 2 Axes>"
      ]
     },
     "metadata": {},
     "output_type": "display_data"
    }
   ],
   "source": [
    "gray_image=X_train[0].reshape((28,28))\n",
    "\n",
    "hog_feature,hog_img= feature.hog(gray_image,visualize=True)\n",
    "\n",
    "plt.subplot(1,2,1)\n",
    "plt.axis(\"off\")\n",
    "plt.imshow(gray_image,cmap=\"gray\")\n",
    "plt.title(\"original image\")\n",
    "\n",
    "plt.subplot(1,2,2)\n",
    "plt.axis(\"off\")\n",
    "plt.imshow(hog_img,cmap=\"gray\")\n",
    "plt.title(\"hog image\")"
   ]
  },
  {
   "cell_type": "code",
   "execution_count": 162,
   "id": "ed31fc8a",
   "metadata": {},
   "outputs": [
    {
     "data": {
      "text/plain": [
       "12"
      ]
     },
     "execution_count": 162,
     "metadata": {},
     "output_type": "execute_result"
    }
   ],
   "source": [
    "y_train[0]"
   ]
  },
  {
   "cell_type": "code",
   "execution_count": 163,
   "id": "1abd0d85",
   "metadata": {},
   "outputs": [],
   "source": [
    "X_train_img=np.array(train_feature)\n",
    "X_test_img=np.array(test_feature)"
   ]
  },
  {
   "cell_type": "code",
   "execution_count": 164,
   "id": "9f43287a",
   "metadata": {},
   "outputs": [
    {
     "data": {
      "text/plain": [
       "(array([[0.05155334, 0.19415064, 0.05275564, ..., 0.09073399, 0.04895927,\n",
       "         0.0295158 ],\n",
       "        [0.01278268, 0.04096929, 0.01638084, ..., 0.        , 0.        ,\n",
       "         0.        ],\n",
       "        [0.02486303, 0.        , 0.        , ..., 0.05626143, 0.25739127,\n",
       "         0.20448539],\n",
       "        ...,\n",
       "        [0.05705015, 0.03785306, 0.05129684, ..., 0.01464111, 0.04664038,\n",
       "         0.31715024],\n",
       "        [0.        , 0.        , 0.        , ..., 0.08714681, 0.08567875,\n",
       "         0.04891132],\n",
       "        [0.        , 0.00119104, 0.        , ..., 0.        , 0.        ,\n",
       "         0.        ]]),\n",
       " array([[0.        , 0.        , 0.        , ..., 0.        , 0.        ,\n",
       "         0.        ],\n",
       "        [0.        , 0.        , 0.        , ..., 0.        , 0.04702229,\n",
       "         0.11970785],\n",
       "        [0.0225329 , 0.        , 0.03808221, ..., 0.00055186, 0.04443167,\n",
       "         0.03286788],\n",
       "        ...,\n",
       "        [0.        , 0.        , 0.        , ..., 0.        , 0.        ,\n",
       "         0.        ],\n",
       "        [0.09001363, 0.04818469, 0.25872908, ..., 0.29818734, 0.1125523 ,\n",
       "         0.        ],\n",
       "        [0.        , 0.        , 0.        , ..., 0.        , 0.        ,\n",
       "         0.        ]]))"
      ]
     },
     "execution_count": 164,
     "metadata": {},
     "output_type": "execute_result"
    }
   ],
   "source": [
    "X_train_img,X_test_img"
   ]
  },
  {
   "cell_type": "code",
   "execution_count": 298,
   "id": "9e704ab3",
   "metadata": {},
   "outputs": [
    {
     "data": {
      "text/plain": [
       "array([19,  5, 12, ..., 19, 17, 11], dtype=int64)"
      ]
     },
     "execution_count": 298,
     "metadata": {},
     "output_type": "execute_result"
    }
   ],
   "source": [
    "y_test"
   ]
  },
  {
   "cell_type": "code",
   "execution_count": 165,
   "id": "3b9fad15",
   "metadata": {},
   "outputs": [
    {
     "data": {
      "text/plain": [
       "((71039, 81), (17760, 81))"
      ]
     },
     "execution_count": 165,
     "metadata": {},
     "output_type": "execute_result"
    }
   ],
   "source": [
    "X_train_img.shape,X_test_img.shape"
   ]
  },
  {
   "cell_type": "markdown",
   "id": "3b2dd73e",
   "metadata": {},
   "source": [
    "# Model"
   ]
  },
  {
   "cell_type": "code",
   "execution_count": 301,
   "id": "9927cc40",
   "metadata": {},
   "outputs": [],
   "source": [
    "model= Sequential([\n",
    "    tf.keras.Input(shape=(81,)),\n",
    "    Dense(units=200,activation=\"relu\",name=\"layer1\"),\n",
    "    Dense(units=200,activation=\"relu\",name=\"layer2\"),\n",
    "    Dense(units=26,activation=\"linear\",name=\"layer3\")\n",
    "],name=\"Mymodel\"\n",
    ")"
   ]
  },
  {
   "cell_type": "code",
   "execution_count": 302,
   "id": "1382ab39",
   "metadata": {},
   "outputs": [
    {
     "name": "stdout",
     "output_type": "stream",
     "text": [
      "Model: \"Mymodel\"\n",
      "_________________________________________________________________\n",
      " Layer (type)                Output Shape              Param #   \n",
      "=================================================================\n",
      " layer1 (Dense)              (None, 200)               16400     \n",
      "                                                                 \n",
      " layer2 (Dense)              (None, 200)               40200     \n",
      "                                                                 \n",
      " layer3 (Dense)              (None, 26)                5226      \n",
      "                                                                 \n",
      "=================================================================\n",
      "Total params: 61826 (241.51 KB)\n",
      "Trainable params: 61826 (241.51 KB)\n",
      "Non-trainable params: 0 (0.00 Byte)\n",
      "_________________________________________________________________\n"
     ]
    }
   ],
   "source": [
    "model.summary()"
   ]
  },
  {
   "cell_type": "code",
   "execution_count": 303,
   "id": "fa8ae219",
   "metadata": {},
   "outputs": [],
   "source": [
    "[layer1,layer2,layer3]=model.layers"
   ]
  },
  {
   "cell_type": "code",
   "execution_count": 304,
   "id": "f4547763",
   "metadata": {},
   "outputs": [
    {
     "name": "stdout",
     "output_type": "stream",
     "text": [
      "w1 shape:(81, 200) , b1 shape: (200,)\n",
      "w2 shape:(200, 200) , b2 shape: (200,)\n",
      "w3 shape:(200, 26) , b3 shape: (26,)\n"
     ]
    }
   ],
   "source": [
    "w1,b1=layer1.get_weights()\n",
    "w2,b2=layer2.get_weights()\n",
    "\n",
    "w3,b3=layer3.get_weights()\n",
    "\n",
    "print(f\"w1 shape:{w1.shape} , b1 shape: {b1.shape}\")\n",
    "print(f\"w2 shape:{w2.shape} , b2 shape: {b2.shape}\")\n",
    "print(f\"w3 shape:{w3.shape} , b3 shape: {b3.shape}\")"
   ]
  },
  {
   "cell_type": "markdown",
   "id": "1a568615",
   "metadata": {},
   "source": [
    "# compiling (loss function)"
   ]
  },
  {
   "cell_type": "code",
   "execution_count": 305,
   "id": "a221154f",
   "metadata": {},
   "outputs": [],
   "source": [
    "model.compile(\n",
    "    loss=SparseCategoricalCrossentropy(from_logits=True),\n",
    "    optimizer=Adam(learning_rate=0.001),\n",
    "    metrics=[\"accuracy\"]\n",
    ")"
   ]
  },
  {
   "cell_type": "code",
   "execution_count": 306,
   "id": "3c3ab2bc",
   "metadata": {
    "scrolled": false
   },
   "outputs": [
    {
     "name": "stdout",
     "output_type": "stream",
     "text": [
      "Epoch 1/100\n",
      "2220/2220 [==============================] - 4s 1ms/step - loss: 0.8350 - accuracy: 0.7427\n",
      "Epoch 2/100\n",
      "2220/2220 [==============================] - 3s 1ms/step - loss: 0.4860 - accuracy: 0.8418\n",
      "Epoch 3/100\n",
      "2220/2220 [==============================] - 3s 1ms/step - loss: 0.4046 - accuracy: 0.8662\n",
      "Epoch 4/100\n",
      "2220/2220 [==============================] - 3s 1ms/step - loss: 0.3582 - accuracy: 0.8797\n",
      "Epoch 5/100\n",
      "2220/2220 [==============================] - 3s 1ms/step - loss: 0.3268 - accuracy: 0.8893\n",
      "Epoch 6/100\n",
      "2220/2220 [==============================] - 3s 1ms/step - loss: 0.3022 - accuracy: 0.8960\n",
      "Epoch 7/100\n",
      "2220/2220 [==============================] - 3s 1ms/step - loss: 0.2839 - accuracy: 0.9026\n",
      "Epoch 8/100\n",
      "2220/2220 [==============================] - 3s 1ms/step - loss: 0.2667 - accuracy: 0.9084\n",
      "Epoch 9/100\n",
      "2220/2220 [==============================] - 3s 1ms/step - loss: 0.2529 - accuracy: 0.9121\n",
      "Epoch 10/100\n",
      "2220/2220 [==============================] - 3s 1ms/step - loss: 0.2399 - accuracy: 0.9157\n",
      "Epoch 11/100\n",
      "2220/2220 [==============================] - 3s 1ms/step - loss: 0.2275 - accuracy: 0.9199\n",
      "Epoch 12/100\n",
      "2220/2220 [==============================] - 3s 1ms/step - loss: 0.2159 - accuracy: 0.9240\n",
      "Epoch 13/100\n",
      "2220/2220 [==============================] - 3s 1ms/step - loss: 0.2072 - accuracy: 0.9263\n",
      "Epoch 14/100\n",
      "2220/2220 [==============================] - 3s 1ms/step - loss: 0.1968 - accuracy: 0.9299\n",
      "Epoch 15/100\n",
      "2220/2220 [==============================] - 3s 1ms/step - loss: 0.1876 - accuracy: 0.9320\n",
      "Epoch 16/100\n",
      "2220/2220 [==============================] - 3s 1ms/step - loss: 0.1786 - accuracy: 0.9343\n",
      "Epoch 17/100\n",
      "2220/2220 [==============================] - 3s 1ms/step - loss: 0.1710 - accuracy: 0.9370\n",
      "Epoch 18/100\n",
      "2220/2220 [==============================] - 3s 1ms/step - loss: 0.1627 - accuracy: 0.9402\n",
      "Epoch 19/100\n",
      "2220/2220 [==============================] - 3s 1ms/step - loss: 0.1549 - accuracy: 0.9428\n",
      "Epoch 20/100\n",
      "2220/2220 [==============================] - 3s 1ms/step - loss: 0.1486 - accuracy: 0.9450\n",
      "Epoch 21/100\n",
      "2220/2220 [==============================] - 3s 1ms/step - loss: 0.1413 - accuracy: 0.9470\n",
      "Epoch 22/100\n",
      "2220/2220 [==============================] - 3s 1ms/step - loss: 0.1349 - accuracy: 0.9486\n",
      "Epoch 23/100\n",
      "2220/2220 [==============================] - 3s 1ms/step - loss: 0.1286 - accuracy: 0.9505\n",
      "Epoch 24/100\n",
      "2220/2220 [==============================] - 3s 1ms/step - loss: 0.1238 - accuracy: 0.9527\n",
      "Epoch 25/100\n",
      "2220/2220 [==============================] - 3s 1ms/step - loss: 0.1166 - accuracy: 0.9545\n",
      "Epoch 26/100\n",
      "2220/2220 [==============================] - 3s 1ms/step - loss: 0.1118 - accuracy: 0.9568\n",
      "Epoch 27/100\n",
      "2220/2220 [==============================] - 3s 1ms/step - loss: 0.1072 - accuracy: 0.9580\n",
      "Epoch 28/100\n",
      "2220/2220 [==============================] - 3s 1ms/step - loss: 0.1010 - accuracy: 0.9603\n",
      "Epoch 29/100\n",
      "2220/2220 [==============================] - 3s 1ms/step - loss: 0.0978 - accuracy: 0.9618\n",
      "Epoch 30/100\n",
      "2220/2220 [==============================] - 3s 1ms/step - loss: 0.0926 - accuracy: 0.9641\n",
      "Epoch 31/100\n",
      "2220/2220 [==============================] - 3s 1ms/step - loss: 0.0881 - accuracy: 0.9639\n",
      "Epoch 32/100\n",
      "2220/2220 [==============================] - 3s 1ms/step - loss: 0.0855 - accuracy: 0.9661\n",
      "Epoch 33/100\n",
      "2220/2220 [==============================] - 3s 1ms/step - loss: 0.0802 - accuracy: 0.9682\n",
      "Epoch 34/100\n",
      "2220/2220 [==============================] - 5s 2ms/step - loss: 0.0785 - accuracy: 0.9689\n",
      "Epoch 35/100\n",
      "2220/2220 [==============================] - 3s 1ms/step - loss: 0.0742 - accuracy: 0.9705\n",
      "Epoch 36/100\n",
      "2220/2220 [==============================] - 3s 1ms/step - loss: 0.0724 - accuracy: 0.9706\n",
      "Epoch 37/100\n",
      "2220/2220 [==============================] - 3s 1ms/step - loss: 0.0701 - accuracy: 0.9716\n",
      "Epoch 38/100\n",
      "2220/2220 [==============================] - 4s 2ms/step - loss: 0.0674 - accuracy: 0.9729\n",
      "Epoch 39/100\n",
      "2220/2220 [==============================] - 2s 1ms/step - loss: 0.0652 - accuracy: 0.9734\n",
      "Epoch 40/100\n",
      "2220/2220 [==============================] - 2s 1ms/step - loss: 0.0625 - accuracy: 0.9741\n",
      "Epoch 41/100\n",
      "2220/2220 [==============================] - 2s 1ms/step - loss: 0.0619 - accuracy: 0.9743\n",
      "Epoch 42/100\n",
      "2220/2220 [==============================] - 2s 1ms/step - loss: 0.0568 - accuracy: 0.9775\n",
      "Epoch 43/100\n",
      "2220/2220 [==============================] - 2s 1ms/step - loss: 0.0591 - accuracy: 0.9755\n",
      "Epoch 44/100\n",
      "2220/2220 [==============================] - 2s 1ms/step - loss: 0.0553 - accuracy: 0.9771\n",
      "Epoch 45/100\n",
      "2220/2220 [==============================] - 2s 1ms/step - loss: 0.0533 - accuracy: 0.9775\n",
      "Epoch 46/100\n",
      "2220/2220 [==============================] - 2s 1ms/step - loss: 0.0521 - accuracy: 0.9787\n",
      "Epoch 47/100\n",
      "2220/2220 [==============================] - 2s 1ms/step - loss: 0.0507 - accuracy: 0.9794\n",
      "Epoch 48/100\n",
      "2220/2220 [==============================] - 2s 1ms/step - loss: 0.0497 - accuracy: 0.9792\n",
      "Epoch 49/100\n",
      "2220/2220 [==============================] - 2s 1ms/step - loss: 0.0479 - accuracy: 0.9802\n",
      "Epoch 50/100\n",
      "2220/2220 [==============================] - 2s 1ms/step - loss: 0.0483 - accuracy: 0.9803\n",
      "Epoch 51/100\n",
      "2220/2220 [==============================] - 2s 1ms/step - loss: 0.0469 - accuracy: 0.9813\n",
      "Epoch 52/100\n",
      "2220/2220 [==============================] - 2s 1ms/step - loss: 0.0447 - accuracy: 0.9813\n",
      "Epoch 53/100\n",
      "2220/2220 [==============================] - 2s 1ms/step - loss: 0.0463 - accuracy: 0.9807\n",
      "Epoch 54/100\n",
      "2220/2220 [==============================] - 2s 1ms/step - loss: 0.0427 - accuracy: 0.9824\n",
      "Epoch 55/100\n",
      "2220/2220 [==============================] - 2s 1ms/step - loss: 0.0445 - accuracy: 0.9816\n",
      "Epoch 56/100\n",
      "2220/2220 [==============================] - 2s 1ms/step - loss: 0.0413 - accuracy: 0.9827\n",
      "Epoch 57/100\n",
      "2220/2220 [==============================] - 2s 997us/step - loss: 0.0417 - accuracy: 0.9828\n",
      "Epoch 58/100\n",
      "2220/2220 [==============================] - 2s 996us/step - loss: 0.0419 - accuracy: 0.9830\n",
      "Epoch 59/100\n",
      "2220/2220 [==============================] - 2s 1ms/step - loss: 0.0397 - accuracy: 0.9838\n",
      "Epoch 60/100\n",
      "2220/2220 [==============================] - 2s 999us/step - loss: 0.0401 - accuracy: 0.9833\n",
      "Epoch 61/100\n",
      "2220/2220 [==============================] - 2s 1ms/step - loss: 0.0390 - accuracy: 0.9843\n",
      "Epoch 62/100\n",
      "2220/2220 [==============================] - 2s 1ms/step - loss: 0.0366 - accuracy: 0.9851\n",
      "Epoch 63/100\n",
      "2220/2220 [==============================] - 2s 1ms/step - loss: 0.0380 - accuracy: 0.9849\n",
      "Epoch 64/100\n",
      "2220/2220 [==============================] - 2s 1ms/step - loss: 0.0363 - accuracy: 0.9854\n",
      "Epoch 65/100\n",
      "2220/2220 [==============================] - 2s 1ms/step - loss: 0.0361 - accuracy: 0.9856\n",
      "Epoch 66/100\n",
      "2220/2220 [==============================] - 2s 1ms/step - loss: 0.0372 - accuracy: 0.9846\n",
      "Epoch 67/100\n",
      "2220/2220 [==============================] - 2s 1ms/step - loss: 0.0333 - accuracy: 0.9863\n",
      "Epoch 68/100\n",
      "2220/2220 [==============================] - 2s 1ms/step - loss: 0.0365 - accuracy: 0.9855\n",
      "Epoch 69/100\n",
      "2220/2220 [==============================] - 2s 1ms/step - loss: 0.0334 - accuracy: 0.9865\n",
      "Epoch 70/100\n",
      "2220/2220 [==============================] - 2s 1ms/step - loss: 0.0351 - accuracy: 0.9856\n",
      "Epoch 71/100\n",
      "2220/2220 [==============================] - 2s 1000us/step - loss: 0.0323 - accuracy: 0.9867\n",
      "Epoch 72/100\n",
      "2220/2220 [==============================] - 2s 1ms/step - loss: 0.0320 - accuracy: 0.9871\n",
      "Epoch 73/100\n",
      "2220/2220 [==============================] - 2s 1ms/step - loss: 0.0315 - accuracy: 0.9873\n",
      "Epoch 74/100\n",
      "2220/2220 [==============================] - 2s 1ms/step - loss: 0.0318 - accuracy: 0.9874\n",
      "Epoch 75/100\n",
      "2220/2220 [==============================] - 2s 1ms/step - loss: 0.0314 - accuracy: 0.9876\n",
      "Epoch 76/100\n",
      "2220/2220 [==============================] - 2s 1ms/step - loss: 0.0318 - accuracy: 0.9873\n",
      "Epoch 77/100\n",
      "2220/2220 [==============================] - 2s 1ms/step - loss: 0.0307 - accuracy: 0.9877\n",
      "Epoch 78/100\n",
      "2220/2220 [==============================] - 2s 1ms/step - loss: 0.0307 - accuracy: 0.9878\n",
      "Epoch 79/100\n",
      "2220/2220 [==============================] - 2s 1ms/step - loss: 0.0296 - accuracy: 0.9876\n",
      "Epoch 80/100\n",
      "2220/2220 [==============================] - 2s 1ms/step - loss: 0.0298 - accuracy: 0.9876\n",
      "Epoch 81/100\n",
      "2220/2220 [==============================] - 2s 1ms/step - loss: 0.0288 - accuracy: 0.9888\n",
      "Epoch 82/100\n",
      "2220/2220 [==============================] - 2s 1ms/step - loss: 0.0298 - accuracy: 0.9882\n",
      "Epoch 83/100\n",
      "2220/2220 [==============================] - 2s 1ms/step - loss: 0.0291 - accuracy: 0.9886\n",
      "Epoch 84/100\n",
      "2220/2220 [==============================] - 2s 1ms/step - loss: 0.0274 - accuracy: 0.9889\n",
      "Epoch 85/100\n",
      "2220/2220 [==============================] - 2s 1ms/step - loss: 0.0262 - accuracy: 0.9894\n",
      "Epoch 86/100\n",
      "2220/2220 [==============================] - 2s 1ms/step - loss: 0.0274 - accuracy: 0.9893\n",
      "Epoch 87/100\n",
      "2220/2220 [==============================] - 2s 1ms/step - loss: 0.0270 - accuracy: 0.9898\n",
      "Epoch 88/100\n",
      "2220/2220 [==============================] - 2s 1ms/step - loss: 0.0280 - accuracy: 0.9887\n",
      "Epoch 89/100\n",
      "2220/2220 [==============================] - 2s 1ms/step - loss: 0.0265 - accuracy: 0.9899\n",
      "Epoch 90/100\n",
      "2220/2220 [==============================] - 2s 1ms/step - loss: 0.0272 - accuracy: 0.9889\n",
      "Epoch 91/100\n",
      "2220/2220 [==============================] - 3s 1ms/step - loss: 0.0264 - accuracy: 0.9899\n",
      "Epoch 92/100\n",
      "2220/2220 [==============================] - 2s 1ms/step - loss: 0.0268 - accuracy: 0.9896\n",
      "Epoch 93/100\n",
      "2220/2220 [==============================] - 2s 1ms/step - loss: 0.0236 - accuracy: 0.9909\n",
      "Epoch 94/100\n",
      "2220/2220 [==============================] - 2s 1ms/step - loss: 0.0245 - accuracy: 0.9901\n",
      "Epoch 95/100\n",
      "2220/2220 [==============================] - 2s 1ms/step - loss: 0.0275 - accuracy: 0.9894\n",
      "Epoch 96/100\n",
      "2220/2220 [==============================] - 2s 1ms/step - loss: 0.0215 - accuracy: 0.9919\n",
      "Epoch 97/100\n",
      "2220/2220 [==============================] - 2s 1ms/step - loss: 0.0282 - accuracy: 0.9892\n",
      "Epoch 98/100\n",
      "2220/2220 [==============================] - 2s 1ms/step - loss: 0.0233 - accuracy: 0.9910\n",
      "Epoch 99/100\n",
      "2220/2220 [==============================] - 2s 1ms/step - loss: 0.0239 - accuracy: 0.9913\n",
      "Epoch 100/100\n",
      "2220/2220 [==============================] - 2s 1ms/step - loss: 0.0236 - accuracy: 0.9909\n"
     ]
    }
   ],
   "source": [
    "Letter_recognition=model.fit(\n",
    "    X_train_img,y_train,\n",
    "    epochs=100\n",
    ")"
   ]
  },
  {
   "cell_type": "code",
   "execution_count": 178,
   "id": "0d7b95e7",
   "metadata": {},
   "outputs": [
    {
     "data": {
      "text/plain": [
       "((81,), (71039, 81))"
      ]
     },
     "execution_count": 178,
     "metadata": {},
     "output_type": "execute_result"
    }
   ],
   "source": [
    "X_test_img[0].shape,X_train_img.shape"
   ]
  },
  {
   "cell_type": "code",
   "execution_count": 307,
   "id": "028f6ab9",
   "metadata": {},
   "outputs": [
    {
     "name": "stdout",
     "output_type": "stream",
     "text": [
      "555/555 [==============================] - 0s 715us/step\n"
     ]
    },
    {
     "data": {
      "text/plain": [
       "array([[ -32.747814  ,  -28.696655  ,  -63.121677  , -117.79893   ,\n",
       "         -34.088383  ,   -2.3483598 ,  -39.768055  ,  -19.95359   ,\n",
       "         -21.219198  ,  -14.216896  ,    3.4277349 ,  -43.00235   ,\n",
       "         -59.879807  ,  -73.64798   ,  -64.18064   ,  -23.027477  ,\n",
       "         -48.616165  ,   -7.4129558 ,  -46.064148  ,    7.170199  ,\n",
       "         -67.20108   ,  -75.93795   ,  -96.239525  ,  -46.347546  ,\n",
       "         -10.831374  ,   -4.608606  ],\n",
       "       [ -40.79391   ,  -45.065548  ,  -41.778725  ,  -94.358376  ,\n",
       "         -10.729026  ,   64.183716  ,  -21.100882  , -113.12413   ,\n",
       "         -31.998503  ,  -34.95096   ,  -85.49491   ,  -69.33578   ,\n",
       "        -194.92256   , -135.8509    ,  -79.71707   ,  -25.750658  ,\n",
       "         -25.820482  ,  -42.544144  ,   -9.163215  ,  -32.347095  ,\n",
       "        -177.21881   , -105.41597   ,  -85.59091   , -100.1825    ,\n",
       "        -115.22124   ,  -83.90361   ],\n",
       "       [ -40.63659   ,  -25.503689  ,  -91.70603   ,  -88.89554   ,\n",
       "        -112.08822   , -121.07943   ,  -25.8025    ,  -19.878542  ,\n",
       "         -92.37304   , -101.553375  ,    0.52045965,  -25.520094  ,\n",
       "          20.11535   ,   12.259646  ,  -79.05747   ,  -79.045456  ,\n",
       "         -59.80936   ,  -26.995132  ,  -94.347595  , -149.88521   ,\n",
       "         -17.646975  ,  -42.969994  ,   -8.090047  ,  -37.196213  ,\n",
       "         -34.75663   ,  -58.490482  ],\n",
       "       [ -57.525745  ,  -48.82719   ,  -69.68026   ,   -7.306919  ,\n",
       "         -42.063915  ,   -7.908418  ,  -55.458096  ,  -68.668625  ,\n",
       "          33.15144   ,  -18.000523  ,  -81.23853   ,  -13.7262945 ,\n",
       "         -94.31963   ,  -53.59748   , -109.07789   ,  -37.262848  ,\n",
       "         -62.25457   ,  -46.813107  ,  -43.479702  ,  -26.429686  ,\n",
       "         -64.42009   ,  -82.60595   , -100.348175  ,  -37.870274  ,\n",
       "         -58.051945  ,  -17.99111   ],\n",
       "       [ -37.623962  ,  -69.89933   ,   12.1101    ,  -34.545925  ,\n",
       "         -33.995617  ,  -74.76532   ,  -56.746315  ,  -87.98406   ,\n",
       "         -46.004818  ,  -93.40095   ,  -85.74411   ,  -32.36831   ,\n",
       "        -122.094734  ,  -39.601685  ,  -23.485258  ,  -36.047546  ,\n",
       "         -53.863308  ,  -26.978884  ,  -63.594177  , -104.350395  ,\n",
       "         -49.243786  ,  -40.68053   ,  -79.095116  , -110.20264   ,\n",
       "         -76.164536  , -109.94761   ],\n",
       "       [ -70.731995  ,  -25.88505   ,  -56.896214  ,  -74.20372   ,\n",
       "         -51.68819   ,  -39.667084  ,  -48.17552   ,  -18.043373  ,\n",
       "         -62.885376  ,  -29.93229   ,   24.542843  ,  -22.372313  ,\n",
       "         -63.398754  ,  -61.866478  , -110.822464  ,  -39.981792  ,\n",
       "         -48.618988  ,  -14.499324  ,  -27.631212  ,  -17.065016  ,\n",
       "         -40.36515   ,  -83.757195  ,  -48.558872  ,   13.714197  ,\n",
       "           0.4967674 ,  -35.42025   ],\n",
       "       [ -43.201794  ,  -58.693737  ,  -14.301743  ,  -27.252401  ,\n",
       "         -21.17481   ,  -74.342964  ,  -25.451735  ,  -47.46481   ,\n",
       "         -17.699715  ,  -38.404995  ,  -45.85448   ,  -12.4912405 ,\n",
       "         -37.66821   ,  -28.496634  ,  -15.390211  ,  -41.874664  ,\n",
       "         -16.989809  ,  -52.721947  ,  -51.67166   ,  -74.39054   ,\n",
       "          16.651001  ,   -7.014661  ,  -21.507204  ,  -42.824757  ,\n",
       "         -22.015375  ,  -49.04922   ],\n",
       "       [ -13.170206  ,  -54.613354  ,  -80.09906   ,  -22.033237  ,\n",
       "         -37.062668  ,  -49.972282  ,  -73.715515  ,   37.82395   ,\n",
       "         -55.213516  ,  -32.06463   ,  -29.515858  ,  -35.4677    ,\n",
       "         -33.02963   ,  -32.914555  ,  -85.908516  ,  -41.411945  ,\n",
       "         -49.277515  ,  -37.022522  ,  -69.62252   ,    8.042721  ,\n",
       "         -40.202183  ,  -43.60433   ,  -54.081856  ,  -50.705315  ,\n",
       "         -20.781637  ,  -28.061802  ],\n",
       "       [ -25.256437  ,  -28.58939   ,  -31.223095  ,  -25.092451  ,\n",
       "         -28.354065  ,  -30.602488  ,  -21.822428  ,  -11.1427765 ,\n",
       "           6.4335494 ,  -15.976135  ,  -27.663595  ,   11.364978  ,\n",
       "         -33.42932   ,  -22.842611  ,  -19.72105   ,  -21.52481   ,\n",
       "         -23.726118  ,  -20.896358  ,  -13.599789  ,  -33.921326  ,\n",
       "         -24.97448   ,  -12.544395  ,  -25.26199   ,  -16.675838  ,\n",
       "          -5.13618   ,  -32.878796  ],\n",
       "       [ -44.034454  ,  -15.325868  , -119.12893   ,  -20.306467  ,\n",
       "         -33.080936  ,  -45.467133  ,   -7.816651  , -126.196304  ,\n",
       "         -75.345825  ,  -10.36236   ,  -97.80766   ,  -84.32446   ,\n",
       "        -189.64746   , -104.9794    ,  -38.264626  ,  -38.192     ,\n",
       "         -54.450947  , -103.818085  ,   39.435623  ,  -69.173294  ,\n",
       "         -97.73205   ,  -73.22228   ,  -62.41152   ,  -55.967953  ,\n",
       "         -34.609566  ,  -16.098083  ]], dtype=float32)"
      ]
     },
     "execution_count": 307,
     "metadata": {},
     "output_type": "execute_result"
    }
   ],
   "source": [
    "prediction_model=model.predict(X_test_img)\n",
    "\n",
    "\n",
    "prediction_model[:10]"
   ]
  },
  {
   "cell_type": "code",
   "execution_count": 210,
   "id": "51b4c7d5",
   "metadata": {},
   "outputs": [
    {
     "ename": "IndexError",
     "evalue": "list assignment index out of range",
     "output_type": "error",
     "traceback": [
      "\u001b[1;31m---------------------------------------------------------------------------\u001b[0m",
      "\u001b[1;31mIndexError\u001b[0m                                Traceback (most recent call last)",
      "Cell \u001b[1;32mIn[210], line 3\u001b[0m\n\u001b[0;32m      1\u001b[0m last_prediction\u001b[38;5;241m=\u001b[39m[]\n\u001b[0;32m      2\u001b[0m \u001b[38;5;28;01mfor\u001b[39;00m i \u001b[38;5;129;01min\u001b[39;00m \u001b[38;5;28mrange\u001b[39m(\u001b[38;5;241m25\u001b[39m):\n\u001b[1;32m----> 3\u001b[0m     last_prediction[i]\u001b[38;5;241m=\u001b[39mnp\u001b[38;5;241m.\u001b[39margmax(prediction_model[i])\n",
      "\u001b[1;31mIndexError\u001b[0m: list assignment index out of range"
     ]
    }
   ],
   "source": []
  },
  {
   "cell_type": "code",
   "execution_count": 232,
   "id": "1dd953fe",
   "metadata": {},
   "outputs": [
    {
     "data": {
      "text/plain": [
       "array([-10.107734  , -10.374189  ,  -5.776394  ,  -6.7195005 ,\n",
       "        -6.0119305 ,  -1.2496295 ,  -7.410459  ,  -6.1330075 ,\n",
       "        -5.3270583 ,  -4.412609  ,  -6.579668  ,  -8.892195  ,\n",
       "       -15.25466   ,  -8.481982  , -19.09272   ,  -0.42961192,\n",
       "        -7.888703  ,  -2.5391436 , -13.086966  ,   2.019684  ,\n",
       "       -16.296526  ,  -8.527208  , -15.655768  ,  -8.161254  ,\n",
       "        -1.808316  ,  -8.045456  ], dtype=float32)"
      ]
     },
     "execution_count": 232,
     "metadata": {},
     "output_type": "execute_result"
    }
   ],
   "source": [
    "prediction_model[0]"
   ]
  },
  {
   "cell_type": "code",
   "execution_count": 215,
   "id": "6286a564",
   "metadata": {},
   "outputs": [
    {
     "data": {
      "text/plain": [
       "[]"
      ]
     },
     "execution_count": 215,
     "metadata": {},
     "output_type": "execute_result"
    }
   ],
   "source": [
    "last_prediction"
   ]
  },
  {
   "cell_type": "code",
   "execution_count": 308,
   "id": "b7fc44f6",
   "metadata": {},
   "outputs": [
    {
     "data": {
      "text/plain": [
       "<tf.Tensor: shape=(17760, 26), dtype=float32, numpy=\n",
       "array([[4.5042358e-18, 2.5883143e-16, 2.9001467e-31, ..., 5.5889825e-24,\n",
       "        1.4852872e-08, 7.4872887e-06],\n",
       "       [0.0000000e+00, 0.0000000e+00, 0.0000000e+00, ..., 0.0000000e+00,\n",
       "        0.0000000e+00, 0.0000000e+00],\n",
       "       [4.1266766e-27, 1.5407556e-20, 0.0000000e+00, ..., 1.2874692e-25,\n",
       "        1.4765025e-24, 7.2736347e-35],\n",
       "       ...,\n",
       "       [1.9487505e-27, 3.7486762e-32, 0.0000000e+00, ..., 0.0000000e+00,\n",
       "        1.2562033e-27, 4.2250828e-25],\n",
       "       [7.3463000e-09, 6.5351780e-10, 6.7670730e-27, ..., 3.4990177e-09,\n",
       "        3.9602652e-17, 1.7791721e-16],\n",
       "       [1.0247081e-17, 9.6971588e-17, 5.7679866e-20, ..., 4.7036820e-16,\n",
       "        1.6961864e-10, 8.4658593e-16]], dtype=float32)>"
      ]
     },
     "execution_count": 308,
     "metadata": {},
     "output_type": "execute_result"
    }
   ],
   "source": [
    "prediction_p=tf.nn.softmax(prediction_model)\n",
    "prediction_p"
   ]
  },
  {
   "cell_type": "code",
   "execution_count": 235,
   "id": "cf5c3af1",
   "metadata": {},
   "outputs": [
    {
     "data": {
      "text/plain": [
       "<tf.Tensor: shape=(26,), dtype=float32, numpy=\n",
       "array([4.6609398e-06, 3.5706994e-06, 3.5444633e-04, 1.3802716e-04,\n",
       "       2.8006468e-04, 3.2771718e-02, 6.9164758e-05, 2.4812750e-04,\n",
       "       5.5551314e-04, 1.3862281e-03, 1.5874243e-04, 1.5717207e-05,\n",
       "       2.7113899e-08, 2.3688001e-05, 5.8390692e-10, 7.4409485e-02,\n",
       "       4.2873224e-05, 9.0254834e-03, 2.3692425e-07, 8.6167610e-01,\n",
       "       9.5656674e-09, 2.2640548e-05, 1.8154832e-08, 3.2645170e-05,\n",
       "       1.8744105e-02, 3.6652989e-05], dtype=float32)>"
      ]
     },
     "execution_count": 235,
     "metadata": {},
     "output_type": "execute_result"
    }
   ],
   "source": [
    "prediction_p[0]"
   ]
  },
  {
   "cell_type": "code",
   "execution_count": 309,
   "id": "28530adc",
   "metadata": {},
   "outputs": [
    {
     "name": "stdout",
     "output_type": "stream",
     "text": [
      "555/555 [==============================] - 1s 817us/step - loss: 1.0752 - accuracy: 0.8874\n"
     ]
    }
   ],
   "source": [
    "loss,accurecy=model.evaluate(X_test_img,y_test)\n"
   ]
  },
  {
   "cell_type": "code",
   "execution_count": 310,
   "id": "376ea02a",
   "metadata": {},
   "outputs": [
    {
     "data": {
      "text/plain": [
       "1.075209617614746"
      ]
     },
     "execution_count": 310,
     "metadata": {},
     "output_type": "execute_result"
    }
   ],
   "source": [
    "loss"
   ]
  },
  {
   "cell_type": "code",
   "execution_count": 239,
   "id": "bdec3961",
   "metadata": {},
   "outputs": [
    {
     "data": {
      "text/plain": [
       "(17760, 81)"
      ]
     },
     "execution_count": 239,
     "metadata": {},
     "output_type": "execute_result"
    }
   ],
   "source": [
    "X_test_img.shape"
   ]
  },
  {
   "cell_type": "code",
   "execution_count": 241,
   "id": "5949927d",
   "metadata": {},
   "outputs": [
    {
     "data": {
      "text/plain": [
       "(17760,)"
      ]
     },
     "execution_count": 241,
     "metadata": {},
     "output_type": "execute_result"
    }
   ],
   "source": [
    "y_test.shape"
   ]
  },
  {
   "cell_type": "code",
   "execution_count": 311,
   "id": "2b7dc6c5",
   "metadata": {},
   "outputs": [
    {
     "data": {
      "text/plain": [
       "0.8873873949050903"
      ]
     },
     "execution_count": 311,
     "metadata": {},
     "output_type": "execute_result"
    }
   ],
   "source": [
    "accurecy"
   ]
  },
  {
   "cell_type": "code",
   "execution_count": 299,
   "id": "76b46b49",
   "metadata": {},
   "outputs": [
    {
     "data": {
      "text/plain": [
       "(17760,)"
      ]
     },
     "execution_count": 299,
     "metadata": {},
     "output_type": "execute_result"
    }
   ],
   "source": [
    "y_test.shape"
   ]
  },
  {
   "cell_type": "code",
   "execution_count": 300,
   "id": "15c8b50f",
   "metadata": {},
   "outputs": [
    {
     "data": {
      "text/plain": [
       "(17760, 81)"
      ]
     },
     "execution_count": 300,
     "metadata": {},
     "output_type": "execute_result"
    }
   ],
   "source": [
    "X_test_img.shape"
   ]
  },
  {
   "cell_type": "code",
   "execution_count": null,
   "id": "a704ca05",
   "metadata": {},
   "outputs": [],
   "source": []
  }
 ],
 "metadata": {
  "kernelspec": {
   "display_name": "Python 3 (ipykernel)",
   "language": "python",
   "name": "python3"
  },
  "language_info": {
   "codemirror_mode": {
    "name": "ipython",
    "version": 3
   },
   "file_extension": ".py",
   "mimetype": "text/x-python",
   "name": "python",
   "nbconvert_exporter": "python",
   "pygments_lexer": "ipython3",
   "version": "3.11.5"
  }
 },
 "nbformat": 4,
 "nbformat_minor": 5
}
