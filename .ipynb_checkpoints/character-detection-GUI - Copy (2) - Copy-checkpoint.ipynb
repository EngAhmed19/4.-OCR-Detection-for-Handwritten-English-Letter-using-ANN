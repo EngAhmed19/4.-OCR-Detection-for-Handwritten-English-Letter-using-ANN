{
 "cells": [
  {
   "cell_type": "code",
   "execution_count": 2,
   "id": "d589b595",
   "metadata": {},
   "outputs": [],
   "source": [
    "from tensorflow.keras.models import load_model"
   ]
  },
  {
   "cell_type": "code",
   "execution_count": 3,
   "id": "30efff4f",
   "metadata": {},
   "outputs": [
    {
     "ename": "OSError",
     "evalue": "No file or directory found at D:/Ai model/model1",
     "output_type": "error",
     "traceback": [
      "\u001b[1;31m---------------------------------------------------------------------------\u001b[0m",
      "\u001b[1;31mOSError\u001b[0m                                   Traceback (most recent call last)",
      "Cell \u001b[1;32mIn[3], line 1\u001b[0m\n\u001b[1;32m----> 1\u001b[0m model \u001b[38;5;241m=\u001b[39m load_model(\u001b[38;5;124m'\u001b[39m\u001b[38;5;124mD:/Ai model/model1\u001b[39m\u001b[38;5;124m'\u001b[39m)\n",
      "File \u001b[1;32mC:\\ProgramData\\Anaconda3\\envs\\py311\\Lib\\site-packages\\keras\\src\\saving\\saving_api.py:262\u001b[0m, in \u001b[0;36mload_model\u001b[1;34m(filepath, custom_objects, compile, safe_mode, **kwargs)\u001b[0m\n\u001b[0;32m    254\u001b[0m     \u001b[38;5;28;01mreturn\u001b[39;00m saving_lib\u001b[38;5;241m.\u001b[39mload_model(\n\u001b[0;32m    255\u001b[0m         filepath,\n\u001b[0;32m    256\u001b[0m         custom_objects\u001b[38;5;241m=\u001b[39mcustom_objects,\n\u001b[0;32m    257\u001b[0m         \u001b[38;5;28mcompile\u001b[39m\u001b[38;5;241m=\u001b[39m\u001b[38;5;28mcompile\u001b[39m,\n\u001b[0;32m    258\u001b[0m         safe_mode\u001b[38;5;241m=\u001b[39msafe_mode,\n\u001b[0;32m    259\u001b[0m     )\n\u001b[0;32m    261\u001b[0m \u001b[38;5;66;03m# Legacy case.\u001b[39;00m\n\u001b[1;32m--> 262\u001b[0m \u001b[38;5;28;01mreturn\u001b[39;00m legacy_sm_saving_lib\u001b[38;5;241m.\u001b[39mload_model(\n\u001b[0;32m    263\u001b[0m     filepath, custom_objects\u001b[38;5;241m=\u001b[39mcustom_objects, \u001b[38;5;28mcompile\u001b[39m\u001b[38;5;241m=\u001b[39m\u001b[38;5;28mcompile\u001b[39m, \u001b[38;5;241m*\u001b[39m\u001b[38;5;241m*\u001b[39mkwargs\n\u001b[0;32m    264\u001b[0m )\n",
      "File \u001b[1;32mC:\\ProgramData\\Anaconda3\\envs\\py311\\Lib\\site-packages\\keras\\src\\utils\\traceback_utils.py:70\u001b[0m, in \u001b[0;36mfilter_traceback.<locals>.error_handler\u001b[1;34m(*args, **kwargs)\u001b[0m\n\u001b[0;32m     67\u001b[0m     filtered_tb \u001b[38;5;241m=\u001b[39m _process_traceback_frames(e\u001b[38;5;241m.\u001b[39m__traceback__)\n\u001b[0;32m     68\u001b[0m     \u001b[38;5;66;03m# To get the full stack trace, call:\u001b[39;00m\n\u001b[0;32m     69\u001b[0m     \u001b[38;5;66;03m# `tf.debugging.disable_traceback_filtering()`\u001b[39;00m\n\u001b[1;32m---> 70\u001b[0m     \u001b[38;5;28;01mraise\u001b[39;00m e\u001b[38;5;241m.\u001b[39mwith_traceback(filtered_tb) \u001b[38;5;28;01mfrom\u001b[39;00m \u001b[38;5;28;01mNone\u001b[39;00m\n\u001b[0;32m     71\u001b[0m \u001b[38;5;28;01mfinally\u001b[39;00m:\n\u001b[0;32m     72\u001b[0m     \u001b[38;5;28;01mdel\u001b[39;00m filtered_tb\n",
      "File \u001b[1;32mC:\\ProgramData\\Anaconda3\\envs\\py311\\Lib\\site-packages\\keras\\src\\saving\\legacy\\save.py:234\u001b[0m, in \u001b[0;36mload_model\u001b[1;34m(filepath, custom_objects, compile, options)\u001b[0m\n\u001b[0;32m    232\u001b[0m \u001b[38;5;28;01mif\u001b[39;00m \u001b[38;5;28misinstance\u001b[39m(filepath_str, \u001b[38;5;28mstr\u001b[39m):\n\u001b[0;32m    233\u001b[0m     \u001b[38;5;28;01mif\u001b[39;00m \u001b[38;5;129;01mnot\u001b[39;00m tf\u001b[38;5;241m.\u001b[39mio\u001b[38;5;241m.\u001b[39mgfile\u001b[38;5;241m.\u001b[39mexists(filepath_str):\n\u001b[1;32m--> 234\u001b[0m         \u001b[38;5;28;01mraise\u001b[39;00m \u001b[38;5;167;01mIOError\u001b[39;00m(\n\u001b[0;32m    235\u001b[0m             \u001b[38;5;124mf\u001b[39m\u001b[38;5;124m\"\u001b[39m\u001b[38;5;124mNo file or directory found at \u001b[39m\u001b[38;5;132;01m{\u001b[39;00mfilepath_str\u001b[38;5;132;01m}\u001b[39;00m\u001b[38;5;124m\"\u001b[39m\n\u001b[0;32m    236\u001b[0m         )\n\u001b[0;32m    238\u001b[0m     \u001b[38;5;28;01mif\u001b[39;00m tf\u001b[38;5;241m.\u001b[39mio\u001b[38;5;241m.\u001b[39mgfile\u001b[38;5;241m.\u001b[39misdir(filepath_str):\n\u001b[0;32m    239\u001b[0m         \u001b[38;5;28;01mreturn\u001b[39;00m saved_model_load\u001b[38;5;241m.\u001b[39mload(\n\u001b[0;32m    240\u001b[0m             filepath_str, \u001b[38;5;28mcompile\u001b[39m, options\n\u001b[0;32m    241\u001b[0m         )\n",
      "\u001b[1;31mOSError\u001b[0m: No file or directory found at D:/Ai model/model1"
     ]
    }
   ],
   "source": [
    "model = load_model('D:/Ai model/model1')"
   ]
  },
  {
   "cell_type": "code",
   "execution_count": 2,
   "id": "a9a11d96",
   "metadata": {},
   "outputs": [],
   "source": [
    "import customtkinter\n",
    "import tkinter as tk\n",
    "from tkinter import filedialog\n",
    "import numpy as np\n",
    "\n",
    "from PIL import Image\n",
    "from skimage import feature,io,exposure\n",
    "import tensorflow as tf\n"
   ]
  },
  {
   "cell_type": "code",
   "execution_count": 3,
   "id": "dabd9f7f",
   "metadata": {},
   "outputs": [],
   "source": [
    "def MakePrediction(img):\n",
    "    prediction=model.predict([img])\n",
    "    \n",
    "    return np.argmax(prediction)"
   ]
  },
  {
   "cell_type": "code",
   "execution_count": 4,
   "id": "3d2d9580",
   "metadata": {},
   "outputs": [],
   "source": [
    "\n",
    "\n",
    "def determine_letter(prediction):\n",
    "    letters={i: chr(ord('A') + i) for i in range(26)}\n",
    "    \n",
    "    return letters[prediction]\n",
    "    "
   ]
  },
  {
   "cell_type": "code",
   "execution_count": 5,
   "id": "ce4c4b80",
   "metadata": {},
   "outputs": [],
   "source": [
    "def upload_file():\n",
    "    file_path = filedialog.askopenfilename()\n",
    "    # Process the uploaded file path or perform any desired actions\n",
    "    if file_path:\n",
    "        image=Image.open(file_path)\n",
    "        \n",
    "        image_array=np.asarray(image)\n",
    "        \n",
    "        \n",
    "        image_array_2d= image_array[:,:,0].reshape((1,784))\n",
    "        \n",
    "        image_array_2d=image_array_2d/255\n",
    "        \n",
    "        \"\"\"\n",
    "        hog_image=extract_feature(image_array_2d)\n",
    "        \n",
    "        hog_image=hog_image.reshape((1,81))\n",
    "        \"\"\"\n",
    "        \n",
    "        \n",
    "        prediction=MakePrediction(image_array_2d)\n",
    "        \n",
    "        \n",
    "        predicted_letter=determine_letter(prediction)\n",
    "        \n",
    "        top_window=customtkinter.CTkToplevel(app)\n",
    "        \n",
    "        top_window.grid_columnconfigure(0,weight=1)\n",
    "        top_window.grid_rowconfigure(0,weight=1)\n",
    "        \n",
    "        top_window.title(\"The Pridiction Of a Model\")\n",
    "        \n",
    "        \n",
    "        screen_width=app.winfo_screenwidth()\n",
    "        screen_height=app.winfo_screenheight()\n",
    "\n",
    "        w=350\n",
    "        h=200\n",
    "\n",
    "        a=(screen_width/2)-(w/2)\n",
    "        b=(screen_height/2)-(h/2)\n",
    "\n",
    "\n",
    "        top_window.geometry(\"%dx%d+%d+%d\" %(w,h,a,b))\n",
    "        \n",
    "        label2=customtkinter.CTkLabel(top_window,text=f\"The Character in image is {predicted_letter}\",text_color=\"blue\",fg_color=\"transparent\",font=(\"Arial\",22))\n",
    "        label2.grid(row=0,column=0,padx=10,pady=10)\n",
    "                \n",
    "        top_window.attributes('-topmost', 'true')"
   ]
  },
  {
   "cell_type": "code",
   "execution_count": 15,
   "id": "74938ea2",
   "metadata": {},
   "outputs": [],
   "source": [
    "app=customtkinter.CTk()"
   ]
  },
  {
   "cell_type": "code",
   "execution_count": 16,
   "id": "34f7f618",
   "metadata": {},
   "outputs": [],
   "source": [
    "customtkinter.set_appearance_mode(\"dark\")\n",
    "customtkinter.set_default_color_theme(\"dark-blue\")"
   ]
  },
  {
   "cell_type": "code",
   "execution_count": 17,
   "id": "c7827ca6",
   "metadata": {},
   "outputs": [],
   "source": [
    "screen_width=app.winfo_screenwidth()\n",
    "screen_height=app.winfo_screenheight()\n",
    "\n",
    "w=500\n",
    "h=500\n",
    "\n",
    "a=(screen_width/2)-(w/2)\n",
    "b=(screen_height/2)-(h/2)\n",
    "\n",
    "\n",
    "app.geometry(\"%dx%d+%d+%d\" %(w,h,a,b))"
   ]
  },
  {
   "cell_type": "code",
   "execution_count": 18,
   "id": "0afac87a",
   "metadata": {},
   "outputs": [
    {
     "data": {
      "text/plain": [
       "''"
      ]
     },
     "execution_count": 18,
     "metadata": {},
     "output_type": "execute_result"
    }
   ],
   "source": [
    "app.title(\"OCR for HandWritten character\")\n"
   ]
  },
  {
   "cell_type": "code",
   "execution_count": 19,
   "id": "23103709",
   "metadata": {},
   "outputs": [],
   "source": [
    "app.grid_columnconfigure(0,weight=1)\n",
    "app.grid_rowconfigure(0,weight=1)\n",
    "\n"
   ]
  },
  {
   "cell_type": "code",
   "execution_count": 20,
   "id": "fc789f9b",
   "metadata": {},
   "outputs": [],
   "source": [
    "frame1=customtkinter.CTkFrame(app,width=300,height=300,fg_color=\"transparent\")\n",
    "frame1.grid(row=0,column=0,padx=10,pady=10)"
   ]
  },
  {
   "cell_type": "code",
   "execution_count": 21,
   "id": "acb919e2",
   "metadata": {},
   "outputs": [],
   "source": [
    "label1=customtkinter.CTkLabel(frame1,text=\"Please choose a 28x28 image\",fg_color=\"transparent\",text_color=\"blue\",font=(\"Arial\",20))\n",
    "label1.grid(row=0,column=0,padx=10,pady=10)"
   ]
  },
  {
   "cell_type": "code",
   "execution_count": 22,
   "id": "ce2f8939",
   "metadata": {},
   "outputs": [],
   "source": [
    "button1=customtkinter.CTkButton(frame1,text=\"Choose image\",command=upload_file,corner_radius=15,fg_color=\"blue\")\n",
    "button1.grid(row=1,column=0,padx=10,pady=10)"
   ]
  },
  {
   "cell_type": "code",
   "execution_count": 23,
   "id": "e4537609",
   "metadata": {
    "scrolled": true
   },
   "outputs": [
    {
     "name": "stdout",
     "output_type": "stream",
     "text": [
      "1/1 [==============================] - 0s 22ms/step\n",
      "1/1 [==============================] - 0s 22ms/step\n",
      "1/1 [==============================] - 0s 24ms/step\n",
      "1/1 [==============================] - 0s 24ms/step\n"
     ]
    },
    {
     "ename": "KeyboardInterrupt",
     "evalue": "",
     "output_type": "error",
     "traceback": [
      "\u001b[1;31m---------------------------------------------------------------------------\u001b[0m",
      "\u001b[1;31mKeyboardInterrupt\u001b[0m                         Traceback (most recent call last)",
      "Cell \u001b[1;32mIn[23], line 1\u001b[0m\n\u001b[1;32m----> 1\u001b[0m app\u001b[38;5;241m.\u001b[39mmainloop()\n",
      "File \u001b[1;32mC:\\ProgramData\\Anaconda3\\envs\\py311\\Lib\\site-packages\\customtkinter\\windows\\ctk_tk.py:165\u001b[0m, in \u001b[0;36mCTk.mainloop\u001b[1;34m(self, *args, **kwargs)\u001b[0m\n\u001b[0;32m    161\u001b[0m             \u001b[38;5;28mself\u001b[39m\u001b[38;5;241m.\u001b[39mdeiconify()\n\u001b[0;32m    163\u001b[0m     \u001b[38;5;28mself\u001b[39m\u001b[38;5;241m.\u001b[39m_window_exists \u001b[38;5;241m=\u001b[39m \u001b[38;5;28;01mTrue\u001b[39;00m\n\u001b[1;32m--> 165\u001b[0m \u001b[38;5;28msuper\u001b[39m()\u001b[38;5;241m.\u001b[39mmainloop(\u001b[38;5;241m*\u001b[39margs, \u001b[38;5;241m*\u001b[39m\u001b[38;5;241m*\u001b[39mkwargs)\n",
      "File \u001b[1;32mC:\\ProgramData\\Anaconda3\\envs\\py311\\Lib\\tkinter\\__init__.py:1485\u001b[0m, in \u001b[0;36mMisc.mainloop\u001b[1;34m(self, n)\u001b[0m\n\u001b[0;32m   1483\u001b[0m \u001b[38;5;28;01mdef\u001b[39;00m \u001b[38;5;21mmainloop\u001b[39m(\u001b[38;5;28mself\u001b[39m, n\u001b[38;5;241m=\u001b[39m\u001b[38;5;241m0\u001b[39m):\n\u001b[0;32m   1484\u001b[0m \u001b[38;5;250m    \u001b[39m\u001b[38;5;124;03m\"\"\"Call the mainloop of Tk.\"\"\"\u001b[39;00m\n\u001b[1;32m-> 1485\u001b[0m     \u001b[38;5;28mself\u001b[39m\u001b[38;5;241m.\u001b[39mtk\u001b[38;5;241m.\u001b[39mmainloop(n)\n",
      "\u001b[1;31mKeyboardInterrupt\u001b[0m: "
     ]
    }
   ],
   "source": [
    "app.mainloop()"
   ]
  },
  {
   "cell_type": "code",
   "execution_count": null,
   "id": "120e581f",
   "metadata": {},
   "outputs": [],
   "source": []
  },
  {
   "cell_type": "code",
   "execution_count": null,
   "id": "fc7723a0",
   "metadata": {},
   "outputs": [],
   "source": []
  }
 ],
 "metadata": {
  "kernelspec": {
   "display_name": "Python 3 (ipykernel)",
   "language": "python",
   "name": "python3"
  },
  "language_info": {
   "codemirror_mode": {
    "name": "ipython",
    "version": 3
   },
   "file_extension": ".py",
   "mimetype": "text/x-python",
   "name": "python",
   "nbconvert_exporter": "python",
   "pygments_lexer": "ipython3",
   "version": "3.11.5"
  }
 },
 "nbformat": 4,
 "nbformat_minor": 5
}
